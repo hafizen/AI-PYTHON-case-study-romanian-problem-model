{
  "nbformat": 4,
  "nbformat_minor": 0,
  "metadata": {
    "colab": {
      "provenance": [],
      "authorship_tag": "ABX9TyPbbtN3CikYT6tIy7fsvq+H",
      "include_colab_link": true
    },
    "kernelspec": {
      "name": "python3",
      "display_name": "Python 3"
    },
    "language_info": {
      "name": "python"
    }
  },
  "cells": [
    {
      "cell_type": "markdown",
      "metadata": {
        "id": "view-in-github",
        "colab_type": "text"
      },
      "source": [
        "<a href=\"https://colab.research.google.com/github/hafizen/AI-PYTHON-case-study-romanian-problem-model/blob/main/RL_Hafiz_Kurniawan.ipynb\" target=\"_parent\"><img src=\"https://colab.research.google.com/assets/colab-badge.svg\" alt=\"Open In Colab\"/></a>"
      ]
    },
    {
      "cell_type": "markdown",
      "source": [
        "# **Reinforcement Learning pada Game CartPole**\n",
        "Nama  : Hafiz Kurniawan <br>\n",
        "NRP : 5025201032 <br>\n",
        "Kelas : Deep Learning <br>\n",
        "![image.png](data:image/png;base64,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)\n",
        "### **Cartpole**\n",
        "Game Cartpole merupakan suatu game klasik dimana permainan untuk mengendalikan keseimbangan tiang di atas box. Dalam game ini, pemain dihadapkan pada tugas untuk menjaga tiang agar tetap berdiri tegak diatas box yang bergerak di sepanjang lintasan satu dimensi. Tantangannya berada pada keseimbangan tiang. Tiang tersebut rentan terhadap pergerakan, sehingga mudah terjatuh jika tidak dikendalikan. Pemain harus bereaksi dengan cepat dan tepat untuk menyesuaikan arah kereta sehingga tiang tetap seimbang dan tidak jatuh.\n",
        "\n",
        "### **Reinforcement Learning**\n",
        "pada game ini Reinforcement Learning digunakan untuk belajar secara mandiri mengendalikan box dan menjaga tiang  agar tetap seimbang.  "
      ],
      "metadata": {
        "id": "hKZt3CrtNzjG"
      }
    },
    {
      "cell_type": "markdown",
      "source": [
        "## **Identifikasi Komponen Cartpole**\n",
        "### **State**\n",
        "bentuk representasi keadaan saat ini pada Cartpole:\n",
        "*   posisi box cart pada track\n",
        "*   kecepatan box cart\n",
        "*   sudut tiang pole\n",
        "*   kecepatan rotasi tiang pole\n",
        "\n",
        "### **Action**\n",
        "Tindakan yang dapat diterapkan:\n",
        "*   Menggerakkan box cart ke kanan\n",
        "*   Menggerakkan box cart ke kiri\n",
        "*   Tidak menggerakkan box cart\n",
        "\n",
        "### **Environment**\n",
        "Tempat dimana sistem beroperasi:\n",
        "*   Sistem box cart dan tiang pole\n",
        "*   Hukum gerak yang mempengaruhinya\n",
        "\n",
        "### **Reward**\n",
        "Umpan balik kepada agen dari environment setelah melakukan action:\n",
        "*   Agen mendapatkan reward +1 untuk setiap langkah waktu dimana tiang tetap berdiri tegak\n",
        "*   Episode berakhir jika tiang pole jatuh atau jika box bergerak keluar dari batas lintasan yang ditentukan\n",
        "\n",
        "### **Policy**\n",
        "Strategi agen untuk memilih action berdasarkan state saat ini:\n",
        "*   Fungsi probabilitas yang memetakan state ke action untuk memaksimalkan total reward.\n",
        "\n",
        "\n",
        "\n",
        "\n",
        "\n",
        "\n",
        "\n",
        "\n",
        "\n",
        "\n",
        "\n"
      ],
      "metadata": {
        "id": "iepWA4dJW_OD"
      }
    },
    {
      "cell_type": "markdown",
      "source": [
        "## **Implementasi Reinforcement Learning**"
      ],
      "metadata": {
        "id": "VG0LAE_QdtUM"
      }
    },
    {
      "cell_type": "markdown",
      "source": [
        "## **SETUP**\n",
        "### instalasi paket yang digunakan"
      ],
      "metadata": {
        "id": "ogRbK-XpfuIR"
      }
    },
    {
      "cell_type": "code",
      "execution_count": null,
      "metadata": {
        "colab": {
          "base_uri": "https://localhost:8080/"
        },
        "id": "yVQAeRAoCcg3",
        "outputId": "24d5dbfd-3cda-4dc4-e709-96d082040767"
      },
      "outputs": [
        {
          "output_type": "stream",
          "name": "stdout",
          "text": [
            "Hit:1 https://developer.download.nvidia.com/compute/cuda/repos/ubuntu2204/x86_64  InRelease\n",
            "Hit:2 https://cloud.r-project.org/bin/linux/ubuntu jammy-cran40/ InRelease\n",
            "Get:3 http://security.ubuntu.com/ubuntu jammy-security InRelease [129 kB]\n",
            "Hit:4 http://archive.ubuntu.com/ubuntu jammy InRelease\n",
            "Get:5 http://archive.ubuntu.com/ubuntu jammy-updates InRelease [128 kB]\n",
            "Hit:6 https://ppa.launchpadcontent.net/c2d4u.team/c2d4u4.0+/ubuntu jammy InRelease\n",
            "Hit:7 https://ppa.launchpadcontent.net/deadsnakes/ppa/ubuntu jammy InRelease\n",
            "Hit:8 https://ppa.launchpadcontent.net/graphics-drivers/ppa/ubuntu jammy InRelease\n",
            "Hit:9 https://ppa.launchpadcontent.net/ubuntugis/ppa/ubuntu jammy InRelease\n",
            "Hit:10 http://archive.ubuntu.com/ubuntu jammy-backports InRelease\n",
            "Fetched 257 kB in 2s (109 kB/s)\n",
            "Reading package lists... Done\n",
            "Reading package lists... Done\n",
            "Building dependency tree... Done\n",
            "Reading state information... Done\n",
            "freeglut3-dev is already the newest version (2.8.1-6).\n",
            "ffmpeg is already the newest version (7:4.4.2-0ubuntu0.22.04.1).\n",
            "xvfb is already the newest version (2:21.1.4-2ubuntu1.7~22.04.10).\n",
            "0 upgraded, 0 newly installed, 0 to remove and 51 not upgraded.\n",
            "Requirement already satisfied: imageio==2.4.1 in /usr/local/lib/python3.10/dist-packages (2.4.1)\n",
            "Requirement already satisfied: numpy in /usr/local/lib/python3.10/dist-packages (from imageio==2.4.1) (1.25.2)\n",
            "Requirement already satisfied: pillow in /usr/local/lib/python3.10/dist-packages (from imageio==2.4.1) (9.4.0)\n",
            "Requirement already satisfied: pyvirtualdisplay in /usr/local/lib/python3.10/dist-packages (3.0)\n",
            "Requirement already satisfied: tf-agents[reverb] in /usr/local/lib/python3.10/dist-packages (0.19.0)\n",
            "Requirement already satisfied: absl-py>=0.6.1 in /usr/local/lib/python3.10/dist-packages (from tf-agents[reverb]) (1.4.0)\n",
            "Requirement already satisfied: cloudpickle>=1.3 in /usr/local/lib/python3.10/dist-packages (from tf-agents[reverb]) (2.2.1)\n",
            "Requirement already satisfied: gin-config>=0.4.0 in /usr/local/lib/python3.10/dist-packages (from tf-agents[reverb]) (0.5.0)\n",
            "Requirement already satisfied: gym<=0.23.0,>=0.17.0 in /usr/local/lib/python3.10/dist-packages (from tf-agents[reverb]) (0.23.0)\n",
            "Requirement already satisfied: numpy>=1.19.0 in /usr/local/lib/python3.10/dist-packages (from tf-agents[reverb]) (1.25.2)\n",
            "Requirement already satisfied: pillow in /usr/local/lib/python3.10/dist-packages (from tf-agents[reverb]) (9.4.0)\n",
            "Requirement already satisfied: six>=1.10.0 in /usr/local/lib/python3.10/dist-packages (from tf-agents[reverb]) (1.16.0)\n",
            "Requirement already satisfied: protobuf>=3.11.3 in /usr/local/lib/python3.10/dist-packages (from tf-agents[reverb]) (3.20.3)\n",
            "Requirement already satisfied: wrapt>=1.11.1 in /usr/local/lib/python3.10/dist-packages (from tf-agents[reverb]) (1.14.1)\n",
            "Requirement already satisfied: typing-extensions==4.5.0 in /usr/local/lib/python3.10/dist-packages (from tf-agents[reverb]) (4.5.0)\n",
            "Requirement already satisfied: pygame==2.1.3 in /usr/local/lib/python3.10/dist-packages (from tf-agents[reverb]) (2.1.3)\n",
            "Requirement already satisfied: tensorflow-probability~=0.23.0 in /usr/local/lib/python3.10/dist-packages (from tf-agents[reverb]) (0.23.0)\n",
            "Requirement already satisfied: rlds in /usr/local/lib/python3.10/dist-packages (from tf-agents[reverb]) (0.1.8)\n",
            "Requirement already satisfied: dm-reverb~=0.14.0 in /usr/local/lib/python3.10/dist-packages (from tf-agents[reverb]) (0.14.0)\n",
            "Requirement already satisfied: tensorflow~=2.15.0 in /usr/local/lib/python3.10/dist-packages (from tf-agents[reverb]) (2.15.0)\n",
            "Requirement already satisfied: dm-tree in /usr/local/lib/python3.10/dist-packages (from dm-reverb~=0.14.0->tf-agents[reverb]) (0.1.8)\n",
            "Requirement already satisfied: portpicker in /usr/local/lib/python3.10/dist-packages (from dm-reverb~=0.14.0->tf-agents[reverb]) (1.5.2)\n",
            "Requirement already satisfied: gym-notices>=0.0.4 in /usr/local/lib/python3.10/dist-packages (from gym<=0.23.0,>=0.17.0->tf-agents[reverb]) (0.0.8)\n",
            "Requirement already satisfied: astunparse>=1.6.0 in /usr/local/lib/python3.10/dist-packages (from tensorflow~=2.15.0->tf-agents[reverb]) (1.6.3)\n",
            "Requirement already satisfied: flatbuffers>=23.5.26 in /usr/local/lib/python3.10/dist-packages (from tensorflow~=2.15.0->tf-agents[reverb]) (24.3.25)\n",
            "Requirement already satisfied: gast!=0.5.0,!=0.5.1,!=0.5.2,>=0.2.1 in /usr/local/lib/python3.10/dist-packages (from tensorflow~=2.15.0->tf-agents[reverb]) (0.5.4)\n",
            "Requirement already satisfied: google-pasta>=0.1.1 in /usr/local/lib/python3.10/dist-packages (from tensorflow~=2.15.0->tf-agents[reverb]) (0.2.0)\n",
            "Requirement already satisfied: h5py>=2.9.0 in /usr/local/lib/python3.10/dist-packages (from tensorflow~=2.15.0->tf-agents[reverb]) (3.9.0)\n",
            "Requirement already satisfied: libclang>=13.0.0 in /usr/local/lib/python3.10/dist-packages (from tensorflow~=2.15.0->tf-agents[reverb]) (18.1.1)\n",
            "Requirement already satisfied: ml-dtypes~=0.2.0 in /usr/local/lib/python3.10/dist-packages (from tensorflow~=2.15.0->tf-agents[reverb]) (0.2.0)\n",
            "Requirement already satisfied: opt-einsum>=2.3.2 in /usr/local/lib/python3.10/dist-packages (from tensorflow~=2.15.0->tf-agents[reverb]) (3.3.0)\n",
            "Requirement already satisfied: packaging in /usr/local/lib/python3.10/dist-packages (from tensorflow~=2.15.0->tf-agents[reverb]) (24.0)\n",
            "Requirement already satisfied: setuptools in /usr/local/lib/python3.10/dist-packages (from tensorflow~=2.15.0->tf-agents[reverb]) (67.7.2)\n",
            "Requirement already satisfied: termcolor>=1.1.0 in /usr/local/lib/python3.10/dist-packages (from tensorflow~=2.15.0->tf-agents[reverb]) (2.4.0)\n",
            "Requirement already satisfied: tensorflow-io-gcs-filesystem>=0.23.1 in /usr/local/lib/python3.10/dist-packages (from tensorflow~=2.15.0->tf-agents[reverb]) (0.37.0)\n",
            "Requirement already satisfied: grpcio<2.0,>=1.24.3 in /usr/local/lib/python3.10/dist-packages (from tensorflow~=2.15.0->tf-agents[reverb]) (1.64.0)\n",
            "Requirement already satisfied: tensorboard<2.16,>=2.15 in /usr/local/lib/python3.10/dist-packages (from tensorflow~=2.15.0->tf-agents[reverb]) (2.15.2)\n",
            "Requirement already satisfied: tensorflow-estimator<2.16,>=2.15.0 in /usr/local/lib/python3.10/dist-packages (from tensorflow~=2.15.0->tf-agents[reverb]) (2.15.0)\n",
            "Requirement already satisfied: keras<2.16,>=2.15.0 in /usr/local/lib/python3.10/dist-packages (from tensorflow~=2.15.0->tf-agents[reverb]) (2.15.0)\n",
            "Requirement already satisfied: decorator in /usr/local/lib/python3.10/dist-packages (from tensorflow-probability~=0.23.0->tf-agents[reverb]) (4.4.2)\n",
            "Requirement already satisfied: wheel<1.0,>=0.23.0 in /usr/local/lib/python3.10/dist-packages (from astunparse>=1.6.0->tensorflow~=2.15.0->tf-agents[reverb]) (0.43.0)\n",
            "Requirement already satisfied: google-auth<3,>=1.6.3 in /usr/local/lib/python3.10/dist-packages (from tensorboard<2.16,>=2.15->tensorflow~=2.15.0->tf-agents[reverb]) (2.27.0)\n",
            "Requirement already satisfied: google-auth-oauthlib<2,>=0.5 in /usr/local/lib/python3.10/dist-packages (from tensorboard<2.16,>=2.15->tensorflow~=2.15.0->tf-agents[reverb]) (1.2.0)\n",
            "Requirement already satisfied: markdown>=2.6.8 in /usr/local/lib/python3.10/dist-packages (from tensorboard<2.16,>=2.15->tensorflow~=2.15.0->tf-agents[reverb]) (3.6)\n",
            "Requirement already satisfied: requests<3,>=2.21.0 in /usr/local/lib/python3.10/dist-packages (from tensorboard<2.16,>=2.15->tensorflow~=2.15.0->tf-agents[reverb]) (2.31.0)\n",
            "Requirement already satisfied: tensorboard-data-server<0.8.0,>=0.7.0 in /usr/local/lib/python3.10/dist-packages (from tensorboard<2.16,>=2.15->tensorflow~=2.15.0->tf-agents[reverb]) (0.7.2)\n",
            "Requirement already satisfied: werkzeug>=1.0.1 in /usr/local/lib/python3.10/dist-packages (from tensorboard<2.16,>=2.15->tensorflow~=2.15.0->tf-agents[reverb]) (3.0.3)\n",
            "Requirement already satisfied: psutil in /usr/local/lib/python3.10/dist-packages (from portpicker->dm-reverb~=0.14.0->tf-agents[reverb]) (5.9.5)\n",
            "Requirement already satisfied: cachetools<6.0,>=2.0.0 in /usr/local/lib/python3.10/dist-packages (from google-auth<3,>=1.6.3->tensorboard<2.16,>=2.15->tensorflow~=2.15.0->tf-agents[reverb]) (5.3.3)\n",
            "Requirement already satisfied: pyasn1-modules>=0.2.1 in /usr/local/lib/python3.10/dist-packages (from google-auth<3,>=1.6.3->tensorboard<2.16,>=2.15->tensorflow~=2.15.0->tf-agents[reverb]) (0.4.0)\n",
            "Requirement already satisfied: rsa<5,>=3.1.4 in /usr/local/lib/python3.10/dist-packages (from google-auth<3,>=1.6.3->tensorboard<2.16,>=2.15->tensorflow~=2.15.0->tf-agents[reverb]) (4.9)\n",
            "Requirement already satisfied: requests-oauthlib>=0.7.0 in /usr/local/lib/python3.10/dist-packages (from google-auth-oauthlib<2,>=0.5->tensorboard<2.16,>=2.15->tensorflow~=2.15.0->tf-agents[reverb]) (1.3.1)\n",
            "Requirement already satisfied: charset-normalizer<4,>=2 in /usr/local/lib/python3.10/dist-packages (from requests<3,>=2.21.0->tensorboard<2.16,>=2.15->tensorflow~=2.15.0->tf-agents[reverb]) (3.3.2)\n",
            "Requirement already satisfied: idna<4,>=2.5 in /usr/local/lib/python3.10/dist-packages (from requests<3,>=2.21.0->tensorboard<2.16,>=2.15->tensorflow~=2.15.0->tf-agents[reverb]) (3.7)\n",
            "Requirement already satisfied: urllib3<3,>=1.21.1 in /usr/local/lib/python3.10/dist-packages (from requests<3,>=2.21.0->tensorboard<2.16,>=2.15->tensorflow~=2.15.0->tf-agents[reverb]) (2.0.7)\n",
            "Requirement already satisfied: certifi>=2017.4.17 in /usr/local/lib/python3.10/dist-packages (from requests<3,>=2.21.0->tensorboard<2.16,>=2.15->tensorflow~=2.15.0->tf-agents[reverb]) (2024.2.2)\n",
            "Requirement already satisfied: MarkupSafe>=2.1.1 in /usr/local/lib/python3.10/dist-packages (from werkzeug>=1.0.1->tensorboard<2.16,>=2.15->tensorflow~=2.15.0->tf-agents[reverb]) (2.1.5)\n",
            "Requirement already satisfied: pyasn1<0.7.0,>=0.4.6 in /usr/local/lib/python3.10/dist-packages (from pyasn1-modules>=0.2.1->google-auth<3,>=1.6.3->tensorboard<2.16,>=2.15->tensorflow~=2.15.0->tf-agents[reverb]) (0.6.0)\n",
            "Requirement already satisfied: oauthlib>=3.0.0 in /usr/local/lib/python3.10/dist-packages (from requests-oauthlib>=0.7.0->google-auth-oauthlib<2,>=0.5->tensorboard<2.16,>=2.15->tensorflow~=2.15.0->tf-agents[reverb]) (3.2.2)\n",
            "Requirement already satisfied: pyglet in /usr/local/lib/python3.10/dist-packages (2.0.15)\n",
            "Requirement already satisfied: xvfbwrapper in /usr/local/lib/python3.10/dist-packages (0.2.9)\n",
            "Requirement already satisfied: tf-keras in /usr/local/lib/python3.10/dist-packages (2.15.1)\n",
            "Requirement already satisfied: tensorflow<2.16,>=2.15 in /usr/local/lib/python3.10/dist-packages (from tf-keras) (2.15.0)\n",
            "Requirement already satisfied: absl-py>=1.0.0 in /usr/local/lib/python3.10/dist-packages (from tensorflow<2.16,>=2.15->tf-keras) (1.4.0)\n",
            "Requirement already satisfied: astunparse>=1.6.0 in /usr/local/lib/python3.10/dist-packages (from tensorflow<2.16,>=2.15->tf-keras) (1.6.3)\n",
            "Requirement already satisfied: flatbuffers>=23.5.26 in /usr/local/lib/python3.10/dist-packages (from tensorflow<2.16,>=2.15->tf-keras) (24.3.25)\n",
            "Requirement already satisfied: gast!=0.5.0,!=0.5.1,!=0.5.2,>=0.2.1 in /usr/local/lib/python3.10/dist-packages (from tensorflow<2.16,>=2.15->tf-keras) (0.5.4)\n",
            "Requirement already satisfied: google-pasta>=0.1.1 in /usr/local/lib/python3.10/dist-packages (from tensorflow<2.16,>=2.15->tf-keras) (0.2.0)\n",
            "Requirement already satisfied: h5py>=2.9.0 in /usr/local/lib/python3.10/dist-packages (from tensorflow<2.16,>=2.15->tf-keras) (3.9.0)\n",
            "Requirement already satisfied: libclang>=13.0.0 in /usr/local/lib/python3.10/dist-packages (from tensorflow<2.16,>=2.15->tf-keras) (18.1.1)\n",
            "Requirement already satisfied: ml-dtypes~=0.2.0 in /usr/local/lib/python3.10/dist-packages (from tensorflow<2.16,>=2.15->tf-keras) (0.2.0)\n",
            "Requirement already satisfied: numpy<2.0.0,>=1.23.5 in /usr/local/lib/python3.10/dist-packages (from tensorflow<2.16,>=2.15->tf-keras) (1.25.2)\n",
            "Requirement already satisfied: opt-einsum>=2.3.2 in /usr/local/lib/python3.10/dist-packages (from tensorflow<2.16,>=2.15->tf-keras) (3.3.0)\n",
            "Requirement already satisfied: packaging in /usr/local/lib/python3.10/dist-packages (from tensorflow<2.16,>=2.15->tf-keras) (24.0)\n",
            "Requirement already satisfied: protobuf!=4.21.0,!=4.21.1,!=4.21.2,!=4.21.3,!=4.21.4,!=4.21.5,<5.0.0dev,>=3.20.3 in /usr/local/lib/python3.10/dist-packages (from tensorflow<2.16,>=2.15->tf-keras) (3.20.3)\n",
            "Requirement already satisfied: setuptools in /usr/local/lib/python3.10/dist-packages (from tensorflow<2.16,>=2.15->tf-keras) (67.7.2)\n",
            "Requirement already satisfied: six>=1.12.0 in /usr/local/lib/python3.10/dist-packages (from tensorflow<2.16,>=2.15->tf-keras) (1.16.0)\n",
            "Requirement already satisfied: termcolor>=1.1.0 in /usr/local/lib/python3.10/dist-packages (from tensorflow<2.16,>=2.15->tf-keras) (2.4.0)\n",
            "Requirement already satisfied: typing-extensions>=3.6.6 in /usr/local/lib/python3.10/dist-packages (from tensorflow<2.16,>=2.15->tf-keras) (4.5.0)\n",
            "Requirement already satisfied: wrapt<1.15,>=1.11.0 in /usr/local/lib/python3.10/dist-packages (from tensorflow<2.16,>=2.15->tf-keras) (1.14.1)\n",
            "Requirement already satisfied: tensorflow-io-gcs-filesystem>=0.23.1 in /usr/local/lib/python3.10/dist-packages (from tensorflow<2.16,>=2.15->tf-keras) (0.37.0)\n",
            "Requirement already satisfied: grpcio<2.0,>=1.24.3 in /usr/local/lib/python3.10/dist-packages (from tensorflow<2.16,>=2.15->tf-keras) (1.64.0)\n",
            "Requirement already satisfied: tensorboard<2.16,>=2.15 in /usr/local/lib/python3.10/dist-packages (from tensorflow<2.16,>=2.15->tf-keras) (2.15.2)\n",
            "Requirement already satisfied: tensorflow-estimator<2.16,>=2.15.0 in /usr/local/lib/python3.10/dist-packages (from tensorflow<2.16,>=2.15->tf-keras) (2.15.0)\n",
            "Requirement already satisfied: keras<2.16,>=2.15.0 in /usr/local/lib/python3.10/dist-packages (from tensorflow<2.16,>=2.15->tf-keras) (2.15.0)\n",
            "Requirement already satisfied: wheel<1.0,>=0.23.0 in /usr/local/lib/python3.10/dist-packages (from astunparse>=1.6.0->tensorflow<2.16,>=2.15->tf-keras) (0.43.0)\n",
            "Requirement already satisfied: google-auth<3,>=1.6.3 in /usr/local/lib/python3.10/dist-packages (from tensorboard<2.16,>=2.15->tensorflow<2.16,>=2.15->tf-keras) (2.27.0)\n",
            "Requirement already satisfied: google-auth-oauthlib<2,>=0.5 in /usr/local/lib/python3.10/dist-packages (from tensorboard<2.16,>=2.15->tensorflow<2.16,>=2.15->tf-keras) (1.2.0)\n",
            "Requirement already satisfied: markdown>=2.6.8 in /usr/local/lib/python3.10/dist-packages (from tensorboard<2.16,>=2.15->tensorflow<2.16,>=2.15->tf-keras) (3.6)\n",
            "Requirement already satisfied: requests<3,>=2.21.0 in /usr/local/lib/python3.10/dist-packages (from tensorboard<2.16,>=2.15->tensorflow<2.16,>=2.15->tf-keras) (2.31.0)\n",
            "Requirement already satisfied: tensorboard-data-server<0.8.0,>=0.7.0 in /usr/local/lib/python3.10/dist-packages (from tensorboard<2.16,>=2.15->tensorflow<2.16,>=2.15->tf-keras) (0.7.2)\n",
            "Requirement already satisfied: werkzeug>=1.0.1 in /usr/local/lib/python3.10/dist-packages (from tensorboard<2.16,>=2.15->tensorflow<2.16,>=2.15->tf-keras) (3.0.3)\n",
            "Requirement already satisfied: cachetools<6.0,>=2.0.0 in /usr/local/lib/python3.10/dist-packages (from google-auth<3,>=1.6.3->tensorboard<2.16,>=2.15->tensorflow<2.16,>=2.15->tf-keras) (5.3.3)\n",
            "Requirement already satisfied: pyasn1-modules>=0.2.1 in /usr/local/lib/python3.10/dist-packages (from google-auth<3,>=1.6.3->tensorboard<2.16,>=2.15->tensorflow<2.16,>=2.15->tf-keras) (0.4.0)\n",
            "Requirement already satisfied: rsa<5,>=3.1.4 in /usr/local/lib/python3.10/dist-packages (from google-auth<3,>=1.6.3->tensorboard<2.16,>=2.15->tensorflow<2.16,>=2.15->tf-keras) (4.9)\n",
            "Requirement already satisfied: requests-oauthlib>=0.7.0 in /usr/local/lib/python3.10/dist-packages (from google-auth-oauthlib<2,>=0.5->tensorboard<2.16,>=2.15->tensorflow<2.16,>=2.15->tf-keras) (1.3.1)\n",
            "Requirement already satisfied: charset-normalizer<4,>=2 in /usr/local/lib/python3.10/dist-packages (from requests<3,>=2.21.0->tensorboard<2.16,>=2.15->tensorflow<2.16,>=2.15->tf-keras) (3.3.2)\n",
            "Requirement already satisfied: idna<4,>=2.5 in /usr/local/lib/python3.10/dist-packages (from requests<3,>=2.21.0->tensorboard<2.16,>=2.15->tensorflow<2.16,>=2.15->tf-keras) (3.7)\n",
            "Requirement already satisfied: urllib3<3,>=1.21.1 in /usr/local/lib/python3.10/dist-packages (from requests<3,>=2.21.0->tensorboard<2.16,>=2.15->tensorflow<2.16,>=2.15->tf-keras) (2.0.7)\n",
            "Requirement already satisfied: certifi>=2017.4.17 in /usr/local/lib/python3.10/dist-packages (from requests<3,>=2.21.0->tensorboard<2.16,>=2.15->tensorflow<2.16,>=2.15->tf-keras) (2024.2.2)\n",
            "Requirement already satisfied: MarkupSafe>=2.1.1 in /usr/local/lib/python3.10/dist-packages (from werkzeug>=1.0.1->tensorboard<2.16,>=2.15->tensorflow<2.16,>=2.15->tf-keras) (2.1.5)\n",
            "Requirement already satisfied: pyasn1<0.7.0,>=0.4.6 in /usr/local/lib/python3.10/dist-packages (from pyasn1-modules>=0.2.1->google-auth<3,>=1.6.3->tensorboard<2.16,>=2.15->tensorflow<2.16,>=2.15->tf-keras) (0.6.0)\n",
            "Requirement already satisfied: oauthlib>=3.0.0 in /usr/local/lib/python3.10/dist-packages (from requests-oauthlib>=0.7.0->google-auth-oauthlib<2,>=0.5->tensorboard<2.16,>=2.15->tensorflow<2.16,>=2.15->tf-keras) (3.2.2)\n"
          ]
        }
      ],
      "source": [
        "!sudo apt-get update\n",
        "!sudo apt-get install -y xvfb ffmpeg freeglut3-dev\n",
        "!pip install 'imageio==2.4.1'\n",
        "!pip install pyvirtualdisplay\n",
        "!pip install tf-agents[reverb]\n",
        "!pip install pyglet xvfbwrapper\n",
        "!pip install tf-keras"
      ]
    },
    {
      "cell_type": "markdown",
      "source": [
        "### Menggunakan lingkungan Keras-2"
      ],
      "metadata": {
        "id": "XKXsrYriW9XH"
      }
    },
    {
      "cell_type": "code",
      "source": [
        "import os\n",
        "# Keep using keras-2 (tf-keras) rather than keras-3 (keras).\n",
        "os.environ['TF_USE_LEGACY_KERAS'] = '1'"
      ],
      "metadata": {
        "id": "FgNSi-dtFG8L"
      },
      "execution_count": null,
      "outputs": []
    },
    {
      "cell_type": "markdown",
      "source": [
        "### Import modul"
      ],
      "metadata": {
        "id": "BIlPEVXLgprT"
      }
    },
    {
      "cell_type": "code",
      "source": [
        "from __future__ import absolute_import\n",
        "from __future__ import division\n",
        "from __future__ import print_function\n",
        "\n",
        "import base64\n",
        "import imageio\n",
        "import IPython\n",
        "import matplotlib.pyplot as plt\n",
        "import numpy as np\n",
        "import PIL.Image\n",
        "import pyvirtualdisplay\n",
        "import reverb\n",
        "\n",
        "import tensorflow as tf\n",
        "\n",
        "from tf_agents.agents.reinforce import reinforce_agent\n",
        "from tf_agents.drivers import py_driver\n",
        "from tf_agents.environments import suite_gym\n",
        "from tf_agents.environments import tf_py_environment\n",
        "from tf_agents.networks import actor_distribution_network\n",
        "from tf_agents.policies import py_tf_eager_policy\n",
        "from tf_agents.replay_buffers import reverb_replay_buffer\n",
        "from tf_agents.replay_buffers import reverb_utils\n",
        "from tf_agents.specs import tensor_spec\n",
        "from tf_agents.trajectories import trajectory\n",
        "from tf_agents.utils import common\n",
        "\n",
        "# Set up a virtual display for rendering OpenAI gym environments.\n",
        "display = pyvirtualdisplay.Display(visible=0, size=(1400, 900)).start()"
      ],
      "metadata": {
        "id": "bdAMVvIVFq3t"
      },
      "execution_count": null,
      "outputs": []
    },
    {
      "cell_type": "markdown",
      "source": [
        "## **HYPERPARAMETER**\n"
      ],
      "metadata": {
        "id": "yezNmVSKhw_K"
      }
    },
    {
      "cell_type": "code",
      "source": [
        "env_name = \"CartPole-v0\" # @param {type:\"string\"}\n",
        "num_iterations = 300 # @param {type:\"integer\"}\n",
        "collect_episodes_per_iteration = 2 # @param {type:\"integer\"}\n",
        "replay_buffer_capacity = 2000 # @param {type:\"integer\"}\n",
        "\n",
        "# layer with 100 neuron\n",
        "fc_layer_params = (100,)\n",
        "\n",
        "learning_rate = 0.001 # @param {type:\"number\"}\n",
        "log_interval = 25 # @param {type:\"integer\"}\n",
        "num_eval_episodes = 10 # @param {type:\"integer\"}\n",
        "eval_interval = 50 # @param {type:\"integer\"}"
      ],
      "metadata": {
        "id": "JsGKZ9_jFuHK"
      },
      "execution_count": null,
      "outputs": []
    },
    {
      "cell_type": "markdown",
      "source": [
        "## **ENVIRONMENT**\n"
      ],
      "metadata": {
        "id": "JOeWa1wkiyE3"
      }
    },
    {
      "cell_type": "code",
      "source": [
        "env = suite_gym.load(env_name)"
      ],
      "metadata": {
        "id": "W6d14fAsGc3S"
      },
      "execution_count": null,
      "outputs": []
    },
    {
      "cell_type": "code",
      "source": [
        "env.reset()\n",
        "PIL.Image.fromarray(env.render())"
      ],
      "metadata": {
        "colab": {
          "base_uri": "https://localhost:8080/",
          "height": 417
        },
        "id": "hlpNZjexGt6B",
        "outputId": "7be0511d-3cb2-4e42-931a-7be16bc50c05"
      },
      "execution_count": null,
      "outputs": [
        {
          "output_type": "execute_result",
          "data": {
            "text/plain": [
              "<PIL.Image.Image image mode=RGB size=600x400>"
            ],
            "image/png": "[encoded data removed]"
          },
          "metadata": {},
          "execution_count": 10
        }
      ]
    },
    {
      "cell_type": "code",
      "source": [
        "print('Observation Spec:')\n",
        "print(env.time_step_spec().observation)\n",
        "print('Action Spec:')\n",
        "print(env.action_spec())"
      ],
      "metadata": {
        "colab": {
          "base_uri": "https://localhost:8080/"
        },
        "id": "u9qACZSFGxlO",
        "outputId": "ab5b4ab2-e9a6-4911-be40-8a8d22a2c0a5"
      },
      "execution_count": null,
      "outputs": [
        {
          "output_type": "stream",
          "name": "stdout",
          "text": [
            "Observation Spec:\n",
            "BoundedArraySpec(shape=(4,), dtype=dtype('float32'), name='observation', minimum=[-4.8000002e+00 -3.4028235e+38 -4.1887903e-01 -3.4028235e+38], maximum=[4.8000002e+00 3.4028235e+38 4.1887903e-01 3.4028235e+38])\n",
            "Action Spec:\n",
            "BoundedArraySpec(shape=(), dtype=dtype('int64'), name='action', minimum=0, maximum=1)\n"
          ]
        }
      ]
    },
    {
      "cell_type": "code",
      "source": [
        "time_step = env.reset()\n",
        "print('Time step:')\n",
        "print(time_step)\n",
        "\n",
        "action = np.array(1, dtype=np.int32)\n",
        "\n",
        "next_time_step = env.step(action)\n",
        "print('Next time step:')\n",
        "print(next_time_step)"
      ],
      "metadata": {
        "colab": {
          "base_uri": "https://localhost:8080/"
        },
        "id": "qVejKkzMG1Vc",
        "outputId": "4128951f-d47d-43f1-8209-b67d004451f2"
      },
      "execution_count": null,
      "outputs": [
        {
          "output_type": "stream",
          "name": "stdout",
          "text": [
            "Time step:\n",
            "TimeStep(\n",
            "{'step_type': array(0, dtype=int32),\n",
            " 'reward': array(0., dtype=float32),\n",
            " 'discount': array(1., dtype=float32),\n",
            " 'observation': array([-0.0226283 , -0.03645627, -0.02101954,  0.01482715], dtype=float32)})\n",
            "Next time step:\n",
            "TimeStep(\n",
            "{'step_type': array(1, dtype=int32),\n",
            " 'reward': array(1., dtype=float32),\n",
            " 'discount': array(1., dtype=float32),\n",
            " 'observation': array([-0.02335743,  0.15896071, -0.02072299, -0.2844129 ], dtype=float32)})\n"
          ]
        }
      ]
    },
    {
      "cell_type": "code",
      "source": [
        "train_py_env = suite_gym.load(env_name)\n",
        "eval_py_env = suite_gym.load(env_name)\n",
        "\n",
        "train_env = tf_py_environment.TFPyEnvironment(train_py_env)\n",
        "eval_env = tf_py_environment.TFPyEnvironment(eval_py_env)"
      ],
      "metadata": {
        "id": "OOSSWvZTG4ES"
      },
      "execution_count": null,
      "outputs": []
    },
    {
      "cell_type": "markdown",
      "source": [
        "## **AGENT**"
      ],
      "metadata": {
        "id": "2Fxq_wOYi88T"
      }
    },
    {
      "cell_type": "code",
      "source": [
        "actor_net = actor_distribution_network.ActorDistributionNetwork(\n",
        "    train_env.observation_spec(),\n",
        "    train_env.action_spec(),\n",
        "    fc_layer_params=fc_layer_params)"
      ],
      "metadata": {
        "id": "L3P4nhOWG6bM"
      },
      "execution_count": null,
      "outputs": []
    },
    {
      "cell_type": "code",
      "source": [
        "optimizer = tf.keras.optimizers.Adam(learning_rate=learning_rate)\n",
        "\n",
        "train_step_counter = tf.Variable(0)\n",
        "\n",
        "tf_agent = reinforce_agent.ReinforceAgent(\n",
        "    train_env.time_step_spec(),\n",
        "    train_env.action_spec(),\n",
        "    actor_network=actor_net,\n",
        "    optimizer=optimizer,\n",
        "    normalize_returns=True,\n",
        "    train_step_counter=train_step_counter)\n",
        "tf_agent.initialize()"
      ],
      "metadata": {
        "id": "Vn9mJXnlG8ya"
      },
      "execution_count": null,
      "outputs": []
    },
    {
      "cell_type": "markdown",
      "source": [
        "## **POLICY**"
      ],
      "metadata": {
        "id": "dTOfIQBmlC9S"
      }
    },
    {
      "cell_type": "markdown",
      "source": [
        "agent.policy untuk evaluasi/kebijakan<br>\n",
        "agent.collect_policy untuk mengoleksi data"
      ],
      "metadata": {
        "id": "j1RIJhpHlsbu"
      }
    },
    {
      "cell_type": "code",
      "source": [
        "eval_policy = tf_agent.policy\n",
        "collect_policy = tf_agent.collect_policy"
      ],
      "metadata": {
        "id": "e4FZ4XnYHAVb"
      },
      "execution_count": null,
      "outputs": []
    },
    {
      "cell_type": "markdown",
      "source": [
        "metrik evaluasi average return (avg_return)"
      ],
      "metadata": {
        "id": "zjNpJ6NimSpQ"
      }
    },
    {
      "cell_type": "code",
      "source": [
        "def compute_avg_return(environment, policy, num_episodes=10):\n",
        "\n",
        "  total_return = 0.0\n",
        "  for _ in range(num_episodes):\n",
        "\n",
        "    time_step = environment.reset()\n",
        "    episode_return = 0.0\n",
        "\n",
        "    while not time_step.is_last():\n",
        "      action_step = policy.action(time_step)\n",
        "      time_step = environment.step(action_step.action)\n",
        "      episode_return += time_step.reward\n",
        "    total_return += episode_return\n",
        "\n",
        "  avg_return = total_return / num_episodes\n",
        "  return avg_return.numpy()[0]\n"
      ],
      "metadata": {
        "id": "8QiUI-lUHB5h"
      },
      "execution_count": null,
      "outputs": []
    },
    {
      "cell_type": "code",
      "source": [
        "table_name = 'uniform_table'\n",
        "replay_buffer_signature = tensor_spec.from_spec(\n",
        "      tf_agent.collect_data_spec)\n",
        "replay_buffer_signature = tensor_spec.add_outer_dim(\n",
        "      replay_buffer_signature)\n",
        "table = reverb.Table(\n",
        "    table_name,\n",
        "    max_size=replay_buffer_capacity,\n",
        "    sampler=reverb.selectors.Uniform(),\n",
        "    remover=reverb.selectors.Fifo(),\n",
        "    rate_limiter=reverb.rate_limiters.MinSize(1),\n",
        "    signature=replay_buffer_signature)\n",
        "\n",
        "reverb_server = reverb.Server([table])\n",
        "\n",
        "replay_buffer = reverb_replay_buffer.ReverbReplayBuffer(\n",
        "    tf_agent.collect_data_spec,\n",
        "    table_name=table_name,\n",
        "    sequence_length=None,\n",
        "    local_server=reverb_server)\n",
        "\n",
        "rb_observer = reverb_utils.ReverbAddEpisodeObserver(\n",
        "    replay_buffer.py_client,\n",
        "    table_name,\n",
        "    replay_buffer_capacity\n",
        ")"
      ],
      "metadata": {
        "id": "bQhcmlWbHE61"
      },
      "execution_count": null,
      "outputs": []
    },
    {
      "cell_type": "code",
      "source": [
        "def collect_episode(environment, policy, num_episodes):\n",
        "\n",
        "  driver = py_driver.PyDriver(\n",
        "    environment,\n",
        "    py_tf_eager_policy.PyTFEagerPolicy(\n",
        "      policy, use_tf_function=True),\n",
        "    [rb_observer],\n",
        "    max_episodes=num_episodes)\n",
        "  initial_time_step = environment.reset()\n",
        "  driver.run(initial_time_step)"
      ],
      "metadata": {
        "id": "S2E5HOT3HHBE"
      },
      "execution_count": null,
      "outputs": []
    },
    {
      "cell_type": "markdown",
      "source": [
        "## **TRAINING AGENT**"
      ],
      "metadata": {
        "id": "tdJPkaR2kZTt"
      }
    },
    {
      "cell_type": "code",
      "source": [
        "try:\n",
        "  %%time\n",
        "except:\n",
        "  pass\n",
        "\n",
        "# (Optional) Optimize by wrapping some of the code in a graph using TF function.\n",
        "tf_agent.train = common.function(tf_agent.train)\n",
        "\n",
        "# Reset the train step\n",
        "tf_agent.train_step_counter.assign(0)\n",
        "\n",
        "# Evaluate the agent's policy once before training.\n",
        "avg_return = compute_avg_return(eval_env, tf_agent.policy, num_eval_episodes)\n",
        "returns = [avg_return]\n",
        "\n",
        "for _ in range(num_iterations):\n",
        "\n",
        "  # Collect a few episodes using collect_policy and save to the replay buffer.\n",
        "  collect_episode(\n",
        "      train_py_env, tf_agent.collect_policy, collect_episodes_per_iteration)\n",
        "\n",
        "  # Use data from the buffer and update the agent's network.\n",
        "  iterator = iter(replay_buffer.as_dataset(sample_batch_size=1))\n",
        "  trajectories, _ = next(iterator)\n",
        "  train_loss = tf_agent.train(experience=trajectories)\n",
        "\n",
        "  replay_buffer.clear()\n",
        "\n",
        "  step = tf_agent.train_step_counter.numpy()\n",
        "\n",
        "  if step % log_interval == 0:\n",
        "    print('step = {0}: loss = {1}'.format(step, train_loss.loss))\n",
        "\n",
        "  if step % eval_interval == 0:\n",
        "    avg_return = compute_avg_return(eval_env, tf_agent.policy, num_eval_episodes)\n",
        "    print('step = {0}: Average Return = {1}'.format(step, avg_return))\n",
        "    returns.append(avg_return)"
      ],
      "metadata": {
        "colab": {
          "base_uri": "https://localhost:8080/"
        },
        "id": "toO47O2ZHJ1s",
        "outputId": "6de4f9ee-cd71-45c9-f0f4-937c4937b3a3"
      },
      "execution_count": null,
      "outputs": [
        {
          "output_type": "stream",
          "name": "stdout",
          "text": [
            "step = 25: loss = 1.0987977981567383\n",
            "step = 50: loss = 1.0150346755981445\n",
            "step = 50: Average Return = 9.5\n",
            "step = 75: loss = 1.2682404518127441\n",
            "step = 100: loss = 1.2246445417404175\n",
            "step = 100: Average Return = 9.100000381469727\n",
            "step = 125: loss = 1.4175190925598145\n",
            "step = 150: loss = 0.8554401397705078\n",
            "step = 150: Average Return = 69.0\n",
            "step = 175: loss = 0.8330074548721313\n",
            "step = 200: loss = 0.32679080963134766\n",
            "step = 200: Average Return = 195.10000610351562\n",
            "step = 225: loss = 1.7427396774291992\n",
            "step = 250: loss = -1.8829693794250488\n",
            "step = 250: Average Return = 200.0\n",
            "step = 275: loss = 4.5121378898620605\n",
            "step = 300: loss = -2.072713613510132\n",
            "step = 300: Average Return = 200.0\n"
          ]
        }
      ]
    },
    {
      "cell_type": "markdown",
      "source": [
        "## **VISUALISASI**"
      ],
      "metadata": {
        "id": "4kY3gMKrm3vM"
      }
    },
    {
      "cell_type": "code",
      "source": [
        "steps = range(0, num_iterations + 1, eval_interval)\n",
        "plt.plot(steps, returns)\n",
        "plt.ylabel('Average Return')\n",
        "plt.xlabel('Step')\n",
        "plt.ylim(top=250)"
      ],
      "metadata": {
        "colab": {
          "base_uri": "https://localhost:8080/",
          "height": 473
        },
        "id": "aZKWDaN4HNgE",
        "outputId": "e1c85ec3-d2a3-4505-a106-21810a5f68ed"
      },
      "execution_count": null,
      "outputs": [
        {
          "output_type": "execute_result",
          "data": {
            "text/plain": [
              "(-0.44499959945678746, 250.0)"
            ]
          },
          "metadata": {},
          "execution_count": 21
        },
        {
          "output_type": "display_data",
          "data": {
            "text/plain": [
              "<Figure size 640x480 with 1 Axes>"
            ],
            "image/png": "[encoded data removed]"
          },
          "metadata": {}
        }
      ]
    },
    {
      "cell_type": "code",
      "source": [
        "def embed_mp4(filename):\n",
        "  \"\"\"Embeds an mp4 file in the notebook.\"\"\"\n",
        "  video = open(filename,'rb').read()\n",
        "  b64 = base64.b64encode(video)\n",
        "  tag = '''\n",
        "  <video width=\"640\" height=\"480\" controls>\n",
        "    <source src=\"data:video/mp4;base64,{0}\" type=\"video/mp4\">\n",
        "  Your browser does not support the video tag.\n",
        "  </video>'''.format(b64.decode())\n",
        "\n",
        "  return IPython.display.HTML(tag)"
      ],
      "metadata": {
        "id": "Ifc8c3pPHPqx"
      },
      "execution_count": null,
      "outputs": []
    },
    {
      "cell_type": "code",
      "source": [
        "num_episodes = 3\n",
        "video_filename = 'imageio.mp4'\n",
        "with imageio.get_writer(video_filename, fps=60) as video:\n",
        "  for _ in range(num_episodes):\n",
        "    time_step = eval_env.reset()\n",
        "    video.append_data(eval_py_env.render())\n",
        "    while not time_step.is_last():\n",
        "      action_step = tf_agent.policy.action(time_step)\n",
        "      time_step = eval_env.step(action_step.action)\n",
        "      video.append_data(eval_py_env.render())\n",
        "\n",
        "embed_mp4(video_filename)"
      ],
      "metadata": {
        "colab": {
          "base_uri": "https://localhost:8080/",
          "height": 539
        },
        "id": "HmiRyXxBHWau",
        "outputId": "1fa43622-b0c6-41a2-b45c-861834749c87"
      },
      "execution_count": null,
      "outputs": [
        {
          "output_type": "stream",
          "name": "stderr",
          "text": [
            "WARNING:root:IMAGEIO FFMPEG_WRITER WARNING: input image is not divisible by macro_block_size=16, resizing from (400, 600) to (400, 608) to ensure video compatibility with most codecs and players. To prevent resizing, make your input image divisible by the macro_block_size or set the macro_block_size to None (risking incompatibility). You may also see a FFMPEG warning concerning speedloss due to data not being aligned.\n"
          ]
        },
        {
          "output_type": "execute_result",
          "data": {
            "text/plain": [
              "<IPython.core.display.HTML object>"
            ],
            "text/html": [
              "\n",
              "  <video width=\"640\" height=\"480\" controls>\n",
              "    <source src=\"data:video/mp4;base64,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\" type=\"video/mp4\">\n",
              "  Your browser does not support the video tag.\n",
              "  </video>"
            ]
          },
          "metadata": {},
          "execution_count": 23
        }
      ]
    },
    {
      "cell_type": "markdown",
      "source": [
        "## **HASIL DAN PEMBAHASAN**\n",
        "![image.png](data:image/png;base64,iVBORw0KGgoAAAANSUhEUgAAAjsAAAG2CAIAAAAWctCXAAAgAElEQVR4Ae3dCXwT1fo//mmRlrUFbC/i0mGriuIPQUCEK1wFAdELX/SrvOD6FUW5gNyr+AeclsUqSgVFVFBkFVAQFASK07R0o6UtFKjd972E0p2m+5Zk/qQjIbZ0mtKZ5EzmM6+8dDLLOc/zPvE8tj1JKA4bBCAAAQhAQA4ClByCRIwQgAAEIAABDhULLwIIQAACEJCHACqWPMYJUUIAAhCAACoWXgMQgAAEICAPAVQseYwTooQABCAAAVQsvAYgAAEIQEAeAqhY8hgnRAkBCEAAAqhYeA1AAAIQgIA8BFCx5DFOiBICEIAABFCx8BqAAAQgAAF5CEhbsby9vceOHdunTx9XV9c5c+akpaUZVaZMmUKZbEuWLDGeys/PnzVrVs+ePV1dXVetWtXc3Gw8hR0IQAACEFCsgLQVa8aMGfv3709KSoqLi5s1a5abm1tNTQ1vPWXKlMWLFxfe3CorK/njWq125MiR06ZNi42NValULi4unp6eih0eJA4BCEAAAkYBaSuWsRuO40pKSiiKCgsL4w9OmTLlvffeM72A31epVPb29kVFRfzT77//3snJqbGxse2VOAIBCEAAAooSsFzFyszMpCgqMTGR950yZYqLi8vdd9/96KOPenh41NbW8sfXr18/atQo4xjk5ORQFBUTE2M8wu80NDRU3twqKiqys7M1Gs3NA/g3BCAAAQjIUkCj0ajVap1O12rO559aqGLpdLoXXnhh0qRJxiB27drl7++fkJBw6NCh++67b+7cufypxYsXT58+3XhZbW0tRVEqlcp4hN/x8vIy+SsYdiEAAQhAwHYE1Gp1qzmff2qhirV06VKaptsLIjg4mKKorKwsjuPMrFimP2NduXKFoii1Wi3L/6NA0BCAAAQgcFNArVZTFKXRaKxWsZYvX37//ffn5OTcNgKO42pqaiiK8vf35zjOzN8KmjZVWVlJUZRx7YbpKexDAAIQgICMBITnc2l/xtLr9cuXL7/33nszMjIEyCIiIiiKio+P5ziOX3lRXFzMX79r1y4nJ6eGhgaB24UzFLgRpyAAAQhAgCgB4flc2oq1bNkyZ2fn0NDQm4vYC+vq6jiOy8rK2rBhQ3R0dG5uro+Pz9ChQydPnsyr8avbp0+fHhcX5+/v7+rq2uHqduEMiRoMBAMBCEAAAgICwvO5tBWr7d8B9+/fz3HclStXJk+ePGDAAEdHx+HDh69evdr0d3p5eXnPP/98z549XVxcVq5c2eE7iIUzFKDBKQhAAAIQIEpAeD6XtmJZBkI4Q8vEgF4gAAEIQKDrAsLzOSpW14XRAgQgAAEIiCOAiiWOI1qBAAQgAAGpBVCxpBZG+xCAAAQgII4AKpY4jmgFAhCAAASkFkDFkloY7UMAAhCAgDgCqFjiOKIVCEAAAhCQWgAVS2phtA8BCEAAAuIIoGKJ44hWIAABCEBAagFULKmF0T4EIAABCIgjgIoljiNagQAEIAABqQVQsaQWRvsQgAAEICCOACqWOI5oBQIQgAAEpBZAxZJaGO1DAAIQgIA4AqhY4jiiFQhAAAIQkFoAFUtqYbQPAQhAAALiCKBiieOIViAAAQhAQGoBVCyphdE+BCAAAQiII4CKJY4jWoEABCAAAakFULGkFkb7EIAABCAgjgAqljiOaAUCEIAABKQWQMWSWhjtQwACEICAOAKoWOI4ohUIQAACEJBaABVLamG0DwEIQAAC4gigYonjiFYgAAEIQEBqAVQsqYXRPgQgAAEIiCOAiiWOI1qBAAQgAAGpBVCxpBZG+xCAAAQgII4AKpY4jmgFAhCAAASkFkDFkloY7UMAAhCAgDgCqFjiOKIVCEAAAhCQWgAVS2phtA8BCEAAAuIIoGKJ44hWIAABCEBAagFULKmF0T4EIAABCIgjgIoljiNagQAEIAABqQVQsaQWRvsQgAAEICCOACqWOI5oBQIQgAAEpBZAxZJaGO1DAAIQgIA4AqhY4jiiFQhAAAIQkFoAFUtqYbQPAQhAAALiCKBiieOIViAAAQhAQGoBVCyphdE+BCAAAQiII4CKJY4jWoEABCAAAakFULGkFkb7EIAABCAgjgAqljiOaAUCEIAABKQWQMWSWhjtQwACEICAOAKoWOI4ohUIQAACEJBaABVLamG0DwEIQAAC4gigYonjiFYgAAEIQEBqAVQsqYXRPgQgAAEIiCOAiiWOI1qBAAQgAAGpBVCxpBZG+xCAAAQgII4AKpY4jmgFAhCAAASkFkDFkloY7UMAAhCAgDgCqFjiOKIVCEAAAhCQWgAVS2phtA8BCEAAAuIIoGKJ44hWIAABCEBAagFULKmF0T4EIAABCIgjgIoljiNagQAEIAABqQVQsaQWRvsQgAAEICCOACqWOI5oBQIQgAAEpBZAxZJaGO1DAAIQgIA4AqhY4jiiFQhAAAIQkFoAFUtqYbQPAQhAAALiCFizYnl7e48dO7ZPnz6urq5z5sxJS0sz5lRfX//OO+8MGDCgd+/eL730UlFRkfFUfn7+rFmzevbs6erqumrVqubmZuOp2+4IZ3jbW3AQAhCAAAQIFBCezylJI54xY8b+/fuTkpLi4uJmzZrl5uZWU1PD97h06dIHHnggODg4Ojp6woQJEydO5I9rtdqRI0dOmzYtNjZWpVK5uLh4enoKBymcofC9OAsBCEAAAuQICM/n0lYsU4WSkhKKosLCwjiO02g03bt3P3bsGH9BamoqRVEXLlzgOE6lUtnb2xt/5Pr++++dnJwaGxtNm2q1L5xhq4vxFAIQgIDlBbQ6fXFV/ZXyWpt/NGl1XeEVns8tV7EyMzMpikpMTOQ4Ljg4mKKoiooKY2Jubm5bt27lOG79+vWjRo0yHs/JyaEoKiYmxniE32loaKi8uanVaoqiKisrW12DpxCAAAQsJlDfpM0vq43OK1clXDsQmfuFf9rqY3ELf7g465tzYz8NHOLB0owiHtkl1V0xJ6Ji6XS6F154YdKkSXwmhw8fdnBwMM1q3LhxH3zwAcdxixcvnj59uvFUbW0tRVEqlcp4hN/x8vKi/rqhYrUiwlMIQEBEAb1ef72mMa2wKjyj9Lc/1DtDszb8nvyfn2Pm7Tr/zJazIz/077AgDfZgR6z3s/lHTumff/q5M3wiKtbSpUtpmlar1XwOXa9Y+Bnrzl4NuAsCEGhPoLFZV1BRF3elIiC56FBU3leB6Z4nEt4+eHn2txFPeQcNX+PbYU16cK3q75uDX9oRueTH6PWnErcHZxy9lB+SWpx4VVNcWd/ctV+XtRe2jR23fsVavnz5/fffn5OTY5Tt+m8FjU1xHCecoemV2IcABBQroNfrq+qbskuqL2SX+cQV7A3P8ValvP9L7Gt7o6ZvDRu9IaDDgkQz7KiPzzy3NXTBngsrjsZ6+6bsOZd9Kvbq+ayyzOLqyvomvV6vWF6xEheez6X9O5Zer1++fPm9996bkZFhmg+/8uL48eP8wbS0tFYrL4qLi/lTu3btcnJyamhoML291b5whq0uxlMIQMBWBbQ6fUlVQ1KBJiSt+JfLV74NyfTySVp2KPrlHZGTPw95eJ1fhzVpmKfvBO+g2dvD3zpwyeO3hC8D0n+6kHcmqTAm//rVirqGZq2t0pGTl/B8Lm3FWrZsmbOzc2hoaOHNra6ujqdZunSpm5tbSEhIdHT0Uy0bf5xf3T59+vS4uDh/f39XV1esbifnxYRIIGBdgfom7ZVyw+oGv8RrB88bVjd8cCz+jR8uvrDt3LhPA4d6dvyLu0c/9H/mi7Ov7Dy//PAfH59O3nE263i0Oiy9JLWwsrymUafDD0nWHeEOfmcmbcX669oIw7P9+/fzHvw7iPv379+rV6+5c+cWFhYanfLy8p5//vmePXu6uLisXLkS7yA2ymAHArYtoNfrK2ob04uqIjJLT8QYVjd88nvyf1tWNzy75exIL7NWNzzxSeDMr8+9vu/iql/jNvul7o/I8U24dim3PK+spraxg48jsG1eWWRnzZ+xLAMknKFlYkAvEIBAVwQqahtnbw93X6Pq8Bd3/OqGud9FLPkxet3JxG1BhtUNwalFWN3QFX9y7hWez6X9GcsyCsIZWiYG9AIBCHRFYMfZLGOtGvXxmWlf/rm6YePN1Q2RWaWZxdWaOqxu6AqzDO4Vns9RsWQwhAgRArYtoNPpn94cQjPsgchcrG6w7bHuMDtUrA6JcAEEIGBNgbD0EpphR3r51zViMZ41B4KEvlGxSBgFxAABCLQrsOTHaJphvXyS2r0CJxQjgIqlmKFGohCQoUBRZT2/Kj29qEqG4SNkkQVQsUQGRXMQgICIAtuCMmiGfXlHpIhtoin5CqBiyXfsEDkEbFxAq9NP/CyYZtgTMX9+6KiNJ4z0OhJAxepICOchAAErCQSnFvEf1lffhDUXVhoDwrpFxSJsQBAOBCBwU+CtA5doht3we/LNA/i30gVQsZT+CkD+ECBToKCijv+ew6yufQcgmdkhqjsTQMW6MzfcBQEISCvwZUA6zbDzdp2Xthu0LisBVCxZDReChYAyBJq1uvEbA2mGPR1XoIyMkaVZAqhYZjHhIghAwJIC/kmFN8rVmA0Bjc06S/aLvggXQMUifIAQHgSUKPD6vos0w3qrUpSYPHJuXwAVq30bnIEABKwhcKW8drAHSzNsXlmNNfpHn+QKoGKROzaIDALKFLjxRYs0w762N0qZ6SNrAQFULAEcnIIABCwt0KTVPfGJYc2FX+I1S/eN/ogXQMUifogQIASUJOCbcI1m2LGfBjZpseZCSQNvXq6oWOY54SoIQMAiAgv2XKAZ9gv/NIv0hk5kJoCKJbMBQ7gQsGGBnNKaG981PNiDVV+vteE0kdodC6Bi3TEdboQABEQW2OibcmOJ4Bs/XBS5XTRnKwKoWLYyksgDAjIXaGjWjt4QQDNsQHKRzFNB+FIJoGJJJYt2IQCBTgmcir1KM+wE76BmrLnoFJySLkbFUtJoI1cIECzwys7zNMN+FZhOcIwIzcoCqFhWHgB0DwEIcByXWVxFM+xQT99CTT1AINCeACpWezI4DgEIWE7go9NJNMO+ffCy5bpETzIUQMWS4aAhZAjYlkB9k/YxL3+aYUPSim0rM2QjsgAqlsigaA4CEOiswPFoNc2wkzYFa3X6zt6L6xUlgIqlqOFGshAgUWDudxE0w34bkklicIiJJAFULJJGA7FAQHkCqYWVNMMO8/QtrsKaC+UNfyczRsXqJBguhwAERBVYfyqRZthlh6JFbRWN2aYAKpZtjiuygoAsBGobm0d+aFhzEZ5RKouAEaR1BVCxrOuP3iGgaIGjl/Jphp3yeYgOay4U/UIwN3lULHOlcB0EICC6wD+3h9MMuzM0S/SW0aBNCqBi2eSwIikIyEAg8aqGZlj3Naqy6gYZhIsQCRBAxSJgEBACBBQp4PFbAs2w//05RpHZI+k7EUDFuhM13AMBCHRRoKq+acR6P5phL2SXdbEp3K4cAVQs5Yw1MoUAQQI/XcijGfbZLWf1enzOBUHjQngoqFiEDxDCg4ANCuj1+plfn6MZdm94jg2mh5QkE0DFkowWDUMAAu0IxORfN6y5WKuqqG1s5xIchsBtBFCxboOCQxCAgKQCq36Noxn2/V9iJe0FjdueACqW7Y0pMoIA0QKauqaH1qloho3OKyc6UARHngAqFnljgoggYNMC+yNybiwRnPFVGNZc2PQ4S5IcKpYkrGgUAhC4rYBer39uayjNsAfP5972AhyEgIAAKpYADk5BAAIiC1zKLacZ9uF1fpX1TSI3jeYUIICKpYBBRooQIEZgxdFYmmE/OBZPTEQIRE4CqFhyGi3ECgFZC1yvaXRfa1hzEXelQtaJIHhrCaBiWUse/UJAcQJ7zmXTDDvrm3NYc6G4sRcpYVQskSDRDAQgICig1+uf+eLsjTcOH47KF7wQJyHQrgAqVrs0OAEBCIgoEJlVSjPsI+v9qhuaRWwWTSlKABVLUcONZCFgNYHlh/+gGXbNiQSrRYCO5S+AiiX/MUQGECBeoLS6YfgaX5phkwo0xAeLAMkVEKdiZWRk7Nq165NPPvnYZCMkaeEMCQkSYUDAtgV2nM2iGXb2txG2nSayk1pAeD6nzOl+9+7d3bp1Gzhw4KhRox6/uY0ePdqcey1wjXCGFggAXUBA4QI6nf7pzSE0w/5y+YrCKZB+FwWE53OzKpabm9umTZu6GId0twtnKF2/aBkCEOAFwtJLaIYd6eVf16iFCQS6IiA8n5tVsfr27Zudnd2VICS9VzhDSbtG4xCAAMdxS36MphnWyycJGhDoooDwfG5WxVq0aNH333/fxTiku104Q+n6RcsQgADHcUWV9UM9DWsu0ouqAAKBLgoIz+dmVSxvb28XF5eFCxdu2bLlG5Oti5GJdbtwhmL1gnYgAIHbCmwLyqAZ9uUdkbc9i4MQ6JSA8HxuVsUafLttyJAhnYpDuouFM5SuX7QMAQhodfqJnwXTDHsiRg0NCHRdQHg+77hi6fX6vLy8urq6rociUQvCGUrUKZqFAAQ4jgtOLaIZdtTHZ+qbsOYCrwgRBITn844rlk6n6969e0ZGhgixSNOEcIbS9IlWIQABg8BbBy7RDLvh92RwQEAUAeH5vOOKxXHcI488cuHCBVGikaIR4Qyl6BFtQgACHMcVVNQN8WBphs0qqQYIBEQREJ7PzapYp0+f/vvf/56YmChKQKI3Ipyh6N2hQQhAgBf4MiCdZth5u84DBAJiCQjP52ZVrH79+jk4ONjb2/fo0aO/ydZhiGFhYS+++OKgQYMoijp58qTx+oULF1Im24wZM4ynysvLFyxY0LdvX2dn50WLFlVXd/z/bsIZGlvGDgQgIKJAs1Y3fmMgzbCn4wpEbBZNKVxAeD43q2IdaGfrUFalUq1du/bEiRNtK9bMmTMLb27Xr183NjVz5sxRo0ZFRUWFh4cPHz58/vz5xlPt7Qhn2N5dOA4BCHRFwD+p8Ea5GrMhoLFZ15V2cC8ETAWE53OzKpZpc3e237ZizZkzp21TKSkpFEVdvnyZP+Xn52dnZ1dQ0MH/wQln2LYXHIEABLou8Pq+izTDeqtSut4UWoCAUUB4PjerYuW3sxn76HCnbcVydnZ2dXV98MEHly5dWlZWxrewb9++fv36GVtrbm7u1q3biRMnjEeMOw0NDZU3N7VaTVFUZWWl8Sx2IAABSQWulNcObllzkVdWI2lHaFxpAiJULDs7O/vbbeZTtqpYR44c8fHxSUhIOHny5IgRI8aNG6fVGt7MsXHjxgcffNC0WVdX1x07dpge4fe9vLxM/hBm2EXFaquEIxCQSGCzX+qNJYKv7Y2SqH00q1gBESpWnMl2+fLl3bt3P/zww7/99pv5pq0qlumN2dnZFEUFBQV1qmLhZyxTQ+xDwJICTVrdE58Y1lz4JV6zZL/oSwkCIlSstkwsy06ZMqXt8faOCFQsjuNcXFx27tzJcZz5vxU07Ug4Q9MrsQ8BCHRdwDfhGs2wYz8NbNJizUXXOdHCXwSE53Oz/o71l/ZanmRmZvbq1avt8faOCFQstVptZ2fn4+PDcRy/8iI6Oppv58yZM1h50R4pjkPAWgIL9lygGfYL/zRrBYB+bVhAhIp1c4mD4d8ajSY1NXXevHmjRo3qUK26ujq2ZaMoauvWrbGxsfn5+dXV1atWrbpw4UJubm5QUNCYMWPc3d0bGhr41mbOnDl69OiLFy9GRES4u7tjdXuHyLgAApYUyCmtoRl2sAervl5ryX7Rl0IERKhYrVZe2NnZubm5nT/f8Rvdz54922p9xMKFC+vq6qZPn+7q6tq9e3eaphcvXlxUVGQcjPLy8vnz5/fp08fJyenNN9/EO4iNMtiBAAkCG31TaIZ944eLJASDGGxPQISKFWqynTt3LjU1tbm5mRwp4QzJiRORQEDuAg3N2tEbAmiGDUi+9X+Zck8K8RMlIDyfm/V3rLCwsFYlqrm5OSwsjJA8hTMkJEiEAQEbEDgVe5Vm2AneQc1Yc2EDw0lkCsLzuVkVy97evri42DS7srIye3t70yNW3BfO0IqBoWsI2JjAKzvP0wz7VWC6jeWFdMgREJ7PzapYdnZ2JSUlpimlp6f37dvX9IgV94UztGJg6BoCtiSQWVxFM+xQT99CTb0t5YVciBIQns87qFhzWzZ7e/tZs2bx+3Pnzp09e/bgwYNNP3DdugkLZ2jd2NA7BGxG4KPTSTTDvn3wz4/9tJm8kAhRAsLzeQcV642Wzc7Obt68efz+G2+88e9//9vb27u0tJSQPIUzJCRIhAEBWQvUN2kf8/KnGTYk7S9/IJB1UgieQAHh+byDisXn89FHH9XUkPt5l8IZEjgkCAkCshM4Hq2mGXbSpmCtTi+74BGwjASE53OzKhbHcc3NzYGBgTt37qyqqjJ8W3ZBgTnvlLIMk3CGlokBvUDAtgXmfhdBM+y3IZm2nSays7qA8HxuVsXKy8t7+OGHe/Xq1a1bt+zsbI7j3n333SVLllg9Nz4A4QwJCRJhQEC+AqmFlTTDDvP0La7Cmgv5DqM8Iheez82qWHPmzHnttdcaGxv79OnDV6yzZ88OHz6cEADhDAkJEmFAQL4C608l0gy77NCfH/gp30QQOfkCwvO5WRVrwIABaWmGT700Vqzc3NyePXsSkrxwhoQEiTAgIFOB2sbmkR8a1lyEZ5Cy2EqmkgjbHAHh+dysitWvX7/k5GTTihUeHv63v/3NnO4tcI1whhYIAF1AwIYFjl7Kpxl2yuchOqy5sOFhJiY14fncrIr16quvLl68mK9YOTk51dXVzz777BtvvEFIjsIZEhIkwoCATAX+uT2cZtidoVkyjR9hy0tAeD43q2Kp1epHHnlkxIgRd91114QJE+6+++6HHnqo1ec2WRFFOEMrBoauISB3gcSrGpph3deoyqr//D4guWeE+AkXEJ7PzapY/Or2Q4cOrV69etmyZXv27KmrqyMnbeEMyYkTkUBAdgIevyXQDPvfn2NkFzkClqmA8HxubsVqlfy1a9eWL1/e6qC1ngpnaK2o0C8E5C5QVd80Yr0fzbAXssvkngvil4uA8HzeccVKSkravn37rl27KioqOI4rLS1dsWJFjx49HnnkEUIIhDMkJEiEAQHZCfx0IY9m2Ge3nNXr8TkXshs9uQYsPJ93ULF8fHy6d+9u17INGzYsJCTExcVlxowZfn5+5HgIZ0hOnIgEAjIS0Ov1M78+RzPs3vAcGYWNUOUuIDyfd1Cxxo0bt2LFiurq6q+++srOzm7kyJGXLl0iTUQ4Q9KiRTwQkIVATP51w5qLtaqK2kZZBIwgbUNAeD7voGI5OTllZho+SUyr1Xbr1i0wMJBAFOEMCQwYIUGAfIFVv8bRDPv+L7Hkh4oIbUlAeD7voGLZ2dkZV7EbP/CCNB3hDEmLFvFAgHwBTV3TQ+tUNMNG55WTHy0itCUB4fm844r1448/+rRsvXr12r17N7/P/5MQJuEMCQkSYUBARgL7I3JuLBGc8VUY1lzIaNRsI1Th+bzjisUvu2j7T3t7e0KAhDMkJEiEAQG5COj1+ue2htIMe/B8rlxiRpw2IyA8n3dQsWShIJyhLFJAkBAgR+BSbjnNsA+v86usbyInKkSiEAHh+RwVSyEvA6QJAXMFVhyNpRn2g2Px5t6A6yAgngAqlniWaAkCti5wvabRfa1hzUXcFcMnBmCDgIUFULEsDI7uICBjgT3nsmmGnfXNOay5kPEoyjl0VCw5jx5ih4AFBfR6/TNfnL3xxuHDUfkW7BZdQeCWACrWLQvsQQACAgKRWaU0wz6y3q+6oVngMpyCgHQC4lSsioqKPXv2eHh4lJcb3lH4xx9/XL16VbqgO9WycIadagoXQ0DJAssP/0Ez7JoTCUpGQO7WFRCez81aKxgfH+/q6jp8+PC77rorOzv7xtdlrV279v/+7/+sm5ixd+EMjZdhBwIQEBAorW4YvsaXZtikAo3AZTgFAUkFhOdzsyrW1KlTV69ezXGc8YOaIiMjaZqWNG7zGxfO0Px2cCUElCyw42wWzbCzv41QMgJyt7qA8HxuVsVycnLKysoyrVh5eXmOjo5Wz40PQDhDQoJEGBAgWUCn0z+9OYRm2F8uXyE5TsRm8wLC87lZFcvV1TUmxvC12cafsQICAu6//35C7IQzJCRIhAEBkgXC0ktohh3p5V/XqCU5TsRm8wLC87lZFeutt976n//5n6ampj59+uTk5OTn548ePfq9994jxE44Q0KCRBgQIFlgyY/RNMN6+SSRHCRiU4KA8HxuVsXSaDTTpk3r169ft27dHnjgge7du0+ePLmmpoYQPuEMCQkSYUCAWIGiyvqhnoY1F+lFVcQGicAUIiA8n5tVsXip8PDw7777bvPmzaR9r6NwhgoZZqQJgTsW2BaUQTPsyzsi77gF3AgBsQSE5/NOVCyxAhK9HeEMRe8ODULAlgS0Ov3Ez4Jphj0Ro7alvJCLTAWE53OzKtY3bbZt27bt3r07JCREq7X+32mFM5TpsCFsCFhGIDi1iGbYUR+fqW+y/n/LlkkZvZAsIDyfm1WxBg8e3Lt3bzs7uwEtm52dXe/evQcOHGhnZzds2LArV6y8HFY4Q5LHBrFBwOoCbx24RDPsht+TrR4JAoAAx3HC87lZFevnn3/+xz/+wb8li+O4zMzMZ5999ujRo2q1etKkSS+//LJ1oYUztG5s6B0CJAsUVNQN8WBphs0qqSY5TsSmHAHh+dysijV06NDY2FhTspiYmCFDhnAcFxkZec8995iesvy+cIaWjwc9QkAuAl8GpNMMO2/XebkEjDhtXkB4PjerYvXs2fPy5cumUpcuXerZsyfHcbm5ub179zY9Zfl94QwtHw96hIAsBJq1uvEbA2mGPR1XIIuAEaQSBITnc7Mq1qxZs8aMGcN/7AXHcTExMU888cQLL7zAcdzp06dHjhxpXZBTX4cAACAASURBVEfhDK0bG3qHALEC/kmFN8rVmA0Bjc06YoNEYEoTEJ7PzapYhYWF06ZNs7Ozc2jZ7O3tn3vuuaKiIo7jQkJCzpw5Y11T4QytGxt6hwCxAq/vu0gzrLcqhdgIEZgCBYTnc7MqFq+Wmprq07KlpaUR5SicIVGhIhgIECJwpbx2cMuai7wyUj68hhAZhGFdAeH5vBMVy7ppCPQunKHAjTgFAcUKbPZLvbFE8LW9UYoVQOJkCgjP5+ZWLLVa/d133zEM877JRkjCwhkSEiTCgAA5Ak1a3ROfGNZc+CVeIycqRAIBcd6PFRQU1KtXr5EjR951112PP/54v379nJ2dn3nmGUJ8UbEIGQiEIRcB34RrNMOO/TSwSYs1F3IZNKXEKTyfm/Uz1rhx4z788EPj92NVV1fPnj17x44dhBAKZ0hIkAgDAuQILNhzgWbYL/zJ+oM0OT6IxIoCwvO5WRWrT58+/Ade9OvXLynJ8A06cXFxNE1bMSvTroUzNL0S+xCAQE5pDc2wgz1Y9fVaaECANAHh+dysijVw4MCUFMMS2BEjRvj4+PAVy+pvHDZCC2dovAw7EIAAx3EbfVNohn3jh4vQgACBAsLzuVkVa86cObt37+Y4buXKlcOHD//000/HjBkzdepUQrIVzpCQIBEGBEgQaGjWjt4QQDNsQLLh/ZTYIECagPB8blbFys7Ojo+P5ziupqZmyZIljz322EsvvZSXl0dIqsIZEhIkwoAACQKnYq/SDDvBO6gZay5IGA/E0EZAeD7vuGJptdqwsLCKioo2LZNyQDhDUqJEHBAgQOCVnedphv0qMJ2AWBACBG4jIDyfd1yxOI5zdHTMycm5TdtkHBLOkIwYEQUErC+QWVxFM+xQT99CTb31o0EEELidgPB8blbFeuKJJ4KCgm7XOBHHhDMkIkQEAQECBD46nUQz7NsH//I9DATEhRAgcEtAeD43q2L5+fk9/vjjv//++7Vr1ypNtludWHVPOEOrhobOIUCKQH2T9jEvf5phQ9KKSYkJcUCgjYDwfG5WxbK7udnf3Ozs7Ozt7dv0ZZ0DwhlaJyb0CgHCBI5Hq2mGnbQpWKvTExYawoHALQHh+dysihXaznarE6vuCWdo1dDQOQRIEZj7XQTNsN+GZJISEOKAwO0EhOdzsyrW7Zol6JhwhgQFilAgYCWB1MJKmmGHefoWV2HNhZXGAN2aJyA8n5tbsc6dO/evf/3rqaeeunr1KsdxP/74Y3h4uHkBSH6VcIaSd48OIEC8wPpTiTTDLjsUTXykCFDpAsLzuVkV6/jx4z179nz77bcdHR2zs7M5jtu+ffvzzz9PCK1whoQEiTAgYC2B2sbmkR8a1lyEZ5RaKwb0CwEzBYTnc7Mq1uOPP37w4EHjZ7dzHBcTEzNw4MAOIwgLC3vxxRcHDRpEUdTJkyeN1+v1+vXr199zzz09evSYOnVqRkaG8VR5efmCBQv69u3r7Oy8aNGi6upq46n2doQzbO8uHIeAQgSOXsqnGXbK5yE6rLlQyJDLOU3h+dysitWzZ8/c3FzTipWdne3o6Nghi0qlWrt27YkTJ1pVrE2bNjk7O586dSo+Pn727NlDhgypr//z1+szZ84cNWpUVFRUeHj48OHD58+f32Evwhl2eDsugIBtC/xzezjNsDtDs2w7TWRnGwLC87lZFWvIkCGBgYGmFevgwYMjRowwH8i0Yun1+nvuueeLL77gb9doNI6OjkeOHOE4LiUlhaKoy5f/fIejn5+fnZ1dQUGBcEfCGQrfi7MQsG2BxKsammHd16jKqhtsO1NkZxsCwvO5WRXL29v7kUceiYqK6tu3740ffQ4dOuTq6rpt2zbzgUwrVnZ2NkVRsbGxxtsnT5787rvvchy3b9++fv36GY83Nzd369btxIkTxiPGnYaGBuNbmdVqNUVRlZWVxrPYgQAEeAGP3xJohv3vzzEAgYAsBESoWHq9/tNPP+3duzf/TuIePXqsW7euU8mbVqzIyEiKoq5du2Zs4ZVXXnn11VcN39yzceODDz5oPM5xnKur622/7NjLy4v664aKZeqGfQhwHFdV3zRivR/NsBeyywACAVkIiFCx+DwbGxuTk5MvXrxozmqIVjSiVyz8jNVKGE8h0Fbgpwt5NMM+u+WsXo/PuWjLgyMkCohQsX766afa2i59wbZpxRLlt4Km0sIZml6JfQgoR0Cv18/8+hzNsHvDyf3iBeUMBzI1U0B4Pjfr71guLi69e/eeP3++r6+vVqs1s2PTy0wrFr/yYsuWLfwFlZWVrVZeREf/+T7HM2fOYOWFKSP2IWC+QEz+dcOai7WqitpG8+/ClRCwroAIFau5ufn3339fsGBB7969XV1d33nnncjISHOyqq6ujm3ZKIraunVrbGxsfn4+x3GbNm3q16+fj49PQkLCnDlzWq1uHz169MWLFyMiItzd3bG63RxnXAOBtgKrfo2jGfb9X24tcWp7DY5AgDQBESqWMaXa2tpDhw7NmjXLwcFh6NChxuPt7Zw9e/avyyOohQsXchzHv4N44MCBjo6OU6dOTU+/9Y2o5eXl8+fP79Onj5OT05tvvmnO38yEM2wvNhyHgA0LaOqaHlqnohk2Oq/chtNEarYnIDyfm/VbQVOU0tLS7du3P/roo/i2EVMW7EOAKIH9ETk0w07fGoY1F0SNC4LpUECcisX/dPX88887ODgMGzZs3bp1qampHfZtmQuEM7RMDOgFAuQI6PX657aG0gx78Lzho2qwQUBGAsLzuVk/Y82bN4//C9by5cvPnz9PWvLCGZIWLeKBgNQCl3LLaYZ9eJ1fZX2T1H2hfQiIKyA8n5tVsRYsWNB2lWBiYqK4gd5xa8IZ3nGzuBECMhVYcTSWZtgPjsXLNH6ErWQB4fncrIplyldVVbVr165x48bh71imLNiHACEC12sa3dca1lzEXakgJCSEAQHzBUSrWGFhYa+//nrv3r3d3d0Zhrl06ZL5QUh6pXCGknaNxiFAmsCec9k0w8765hzWXJA2NIjHHAHh+bzjn7EKCws/++yz4cOH/+1vf/vPf/5z1113JScnm9Oxxa4RztBiYaAjCFhdQK/XP/PF2RtvHD4cZXjjIzYIyE5AeD7voGK9+OKLTk5O8+fPZ1mW/7QLVCzZvQIQsHIEIrNKaYZ9ZL1fdUOzcrJGprYk0KWK1a1bt/fff9/0O4JRsWzpxYFcbExg+eE/aIZdcyLBxvJCOsoR6FLFunDhwttvv923b9/x48dv3769tLQUFUs5Lx1kKi+B0uqG4Wt8aYZNKtDIK3JECwGjQJcqFt9KTU3Nvn37Jk2a1L17d3t7+6+//rqqqsrYgdV3hDO0engIAAKWEdhxNotm2NnfRlimO/QCASkEhOfzDv6O1SqgtLS01atX33PPPT169PjnP//Z6qy1ngpnaK2o0C8ELCmg0+mf3hxCM+wvl69Ysl/0BQFxBYTn885VLD4yrVZ78uRJVCxxxwmtQaArAmHpJTTDjvTyr2u8k+8D6krXuBcCIgqIX7FEDE6UpoQzFKULNAIBwgWW/BhNM+yHp0j5JBrCuRAesQLC8/md/IxFWqrCGZIWLeKBgOgCRZX1Qz0Nay7SCgn6A7PoaaJBJQgIz+eoWEp4DSBHGxfYFpRBM+zLO8z6nlUbt0B6MhdAxZL5ACJ8CAgKaHX6iZ8F0wx7IkYteCFOQkAGAqhYMhgkhAiBOxYITi2iGXbUx2fqm7Dm4o4VcSMpAqhYpIwE4oCAFAJvHbhEM+yG38n6tE8pMkWbShBAxVLCKCNHhQoUVNQN8WBphs0qqVYoAdK2LQFULNsaT2QDAROBLwPSaYadt4u4bwY3iRG7EOiEACpWJ7BwKQRkJNCs1Y3fGEgz7Om4AhmFjVAhICCAiiWAg1MQkLHAmaTCG+VqzIaAxmadjNNA6BAwEUDFMsHALgRsSOD1fRdphvVWpdhQTkhF6QKoWEp/BSB/mxS4Ul47uGXNRV5ZjU0miKSUKYCKpcxxR9Y2LrDZL/XGEsHX9kbZeJ5IT2ECqFgKG3CkqwCBJq3uiU8May5UCdcUkC5SVJAAKpaCBhupKkTAN+EazbBjPw1s0mLNhULGXClpomIpZaSRp3IEFuy5QDPsF/5pykkZmSpEABVLIQONNJUikFNaQzPsYA9Wfb1WKTkjT8UIoGIpZqiRqDIENvqm0Az7xg8XlZEuslSWACqWssYb2dq2QEOzdvSGAJphA5KLbDtTZKdMAVQsZY47srZNgVOxV2mGneAd1Iw1F7Y5wkrPChVL6a8A5G9LAq/sPE8z7FeB6baUFHKBgFEAFctIgR0IyFsgs7iKZtihnr6Fmnp5Z4LoIdCOACpWOzA4DAG5CXx8Oplm2LcPXpZb4IgXAuYKoGKZK4XrIECyQH2T9jEvf5phQ9KKSY4TsUGgKwKoWF3Rw70QIEXgeLSaZthJm4K1Oj0pMSEOCIgtgIoltijag4A1BOZ+F0Ez7LchmdboHH1CwEICqFgWgkY3EJBOIEGtoRl2mKdvcRXWXEjHjJatL4CKZf0xQAQQ6IpAeU3j05tDaIZdfviPrrSDeyFAvgAqFvljhAgh0K5AQ7P25R2RNMM+vTmkrLqh3etwAgI2IYCKZRPDiCQUKaDX6987EkMz7Egv/8ziakUaIGllCaBiKWu8ka0tCXwdmMH/+Sois9SW8kIuEGhPABWrPRkchwDRAvxHCNIM+/PFfKIDRXAQEE8AFUs8S7QEAUsJROeVu69V0Qy70TfFUn2iHwhYXwAVy/pjgAgg0CmBK+W1Y1q+UmTxwct4v3Cn6HCx3AVQseQ+gohfWQKauqapX4bSDPvCtnO1jc3KSh7ZKl4AFUvxLwEAyEegSat7bW8UzbBPbgzCB7TLZ9wQqWgCqFiiUaIhCEgqoNfrPU8k0Aw7Yr1f4lWNpH2hcQiQKYCKRea4ICoItBbYcy6bZtjBHmxgclHrc3gOAWUIoGIpY5yRpcwFApKLBnuwNMPuOZct81QQPgTuXAAV687tcCcELCOQeFUzYr0fzbBrTiTo9fgyEcuooxcSBVCxSBwVxAQBo0Chpv7JjUE0w762N6pJqzMexw4EFCiAiqXAQUfKshGobWye9c05mmGnfRmqqWuSTdwIFALSCKBiSeOKViHQZQGtTv/2wcs0w47ZEHClvLbL7aEBCMheABVL9kOIBGxVYKNvCs2w7mtV0XnXbTVH5AWBTgmgYnWKCxdDwEICP1/MpxnD4sBTsVct1CW6gQDxAqhYxA8RAlSeQHhG6TBPX5phvw7MUF72yBgC7QqgYrVLgxMQsIpAZnHVSC9/mmFXHI3FWnarDAE6JVYAFYvYoUFgShQoq254enMIzbD/+31kQ7NWiQTIGQLtC6BitW+DMxCwrEB9k/blHZE0wz69OaS8ptGynaM3CMhAABVLBoOEEJUgoNfr3z0SQzPsSC//zOJqJaSMHCHQWQFUrM6K4XoISCLwdWAGzbDDPH0jMksl6QCNQkD+AiRWLC8vL8pke+ihh3jn+vr6d955Z8CAAb17937ppZeKisz6BGvhDOU/gsjAFgROxV7l17IfuZhvC/kgBwhIIyA8n1PSdNpBq15eXo8++mjhza209M//5Vy6dOkDDzwQHBwcHR09YcKEiRMndtBQy2nhDM1pAddAQFKB6Lxy9zUqmmG9fVMk7QiNQ0DuAsLzudUq1qhRo1rJajSa7t27Hzt2jD+emppKUdSFCxdaXdb2qXCGba/HEQhYUiC/rHbMhgCaYRcfvKzT4XPZLWmPvuQnIDyfW61i9erVa9CgQUOGDFmwYEF+vuH3JMHBwRRFVVRUGI3d3Ny2bt1qfGq609DQUHlzU6vVFEVVVlaaXoB9CJAgoKlrmvplKM2wL2w7V9vYTEJIiAECJAuQWLFUKtWvv/4aHx/v7+//1FNPubm5VVVVHT582MHBwZRy3LhxH3zwgekR436rv4ShYhllsEOOQJNW9689UTTDPrkxqKiynpzAEAkEiBUgsWKZYlVUVDg5Oe3du7dTFQs/Y5kaYp9AAb1e73kigWbYEev9kgo0BEaIkCBAoADpFYvjuLFjx3p4eHTqt4Km0MIZml6JfQhYTGDPuWyaYQd7sIHJZi15tVhg6AgCJAsIz+fW+TuWqVd1dXX//v2/+eYbfuXF8ePH+bNpaWlYeWEKhX0ZCQQkFw32MHwu+97wHBmFjVAhYHUBEivWypUrQ0NDc3NzIyMjp02b5uLiUlJSwnHc0qVL3dzcQkJCoqOjn2rZzOETztCcFnANBEQUSLyqeXidH82wa04k4INuRYRFU0oQEJ7PrfMz1rx58wYNGuTg4HDffffNmzcvKyuLHwn+HcT9+/fv1avX3LlzCwsLzRkh4QzNaQHXQEAsgUJN/fiNgTTDvrY3qkmrE6tZtAMBhQgIz+fWqVji0gtnKG5faA0CAgI1Dc2zvjlHM+y0L0Mr65sErsQpCEDgtgLC8zkq1m3RcBACnRbQ6vRvHbhMM+yYDQFXyms7fT9ugAAEOA4VC68CCFhC4FM2mWZY97Wq6LzrlugPfUDAFgVQsWxxVJETYQKHo/L5D7r1iSsgLDSEAwE5CaBiyWm0EKscBcIzSod6+tIM+01QhhzjR8wQIEcAFYucsUAkNiiQWVw10sufZtgVR2Oxlt0GBxgpWVYAFcuy3uhNSQJl1Q1/3xxMM+z/fh/Z0KxVUurIFQKSCKBiScKKRiFQ36R9aUckzbBPbw4pr2kECAQg0HUBVKyuG6IFCLQW0Ov17x6JoRn2MS//zOLq1qfxHAIQuCMBVKw7YsNNEBAU+CownWbYYZ6+kZl/foO24OU4CQEImCWAimUWEy6CgPkCp2Kv8mvZj1w0fBkpNghAQCwBVCyxJNEOBAwCl3PL3deoaIb19k2BCAQgIK4AKpa4nmhN0QL5ZbWjNwTQDLv44GWdTq9oCyQPAQkEULEkQEWTihTQ1DU9u+UszbAvbguvbWxWpAGShoC0AqhY0vqidYUINGl1/9oTRTPsBO+gosp6hWSNNCFgYQFULAuDozsbFNDr9R6/xdMMO2K9X1KBxgYzREoQIEMAFYuMcUAUchbYHZZNM+wQDzYopUjOeSB2CJAugIpF+gghPsIFziQVDvZgaYbdG55DeKgIDwJyF0DFkvsIIn5rCiRe1Ty8zo9m2LUnE/BBt9YcCfStDAFULGWMM7KUQKBQUz9+YyDNsK/tjWrW6iToAU1CAAJ/EUDF+gsHnkDATIGahuZZ35yjGXbal6GV9U1m3oXLIACBrgigYnVFD/cqVECr07914DLNsE98EnClvFahCkgbAhYXQMWyODk6lL/Ap2wyzbDua1XRedflnw0ygIBsBFCxZDNUCJQQgUNRefwH3Z6OKyAkJIQBAYUIoGIpZKCRpjgC5zJKhnr60gy7LShDnBbRCgQgYLYAKpbZVLhQ8QIZRVUjvfxphn3/aCzWsiv+5QAAKwigYlkBHV3KUaC0uuHvm4Nphv3f7yMbmrVyTAExQ0DuAqhYch9BxG8Jgfom7dzvImiGnfx5SHlNoyW6RB8QgEAbAVSsNiQ4AIG/Cuj1+v/+HEMz7GNe/pnF1X89iWcQgIDlBFCxLGeNnmQqsDUgnWbYYZ6+kZmlMk0BYUPANgRQsWxjHJGFVAInY67ya9mPXsqXqg+0CwEImCeAimWeE65SpMDl3HL3NSqaYb1VKYoEQNIQIEsAFYus8UA05Ajkl9WO3hBAM+ySH6N1Oj05gSESCChWABVLsUOPxIUENHVNz245SzPsi9vC6xqxll3ICucgYDEBVCyLUaMj2Qg0aXUL9lygGXaCd1BRZb1s4kagELB1AVQsWx9h5NdJAb1e7/FbPM2wj6z3Sy6o7OTduBwCEJBQABVLQlw0LUeB3WHZNMMO8WCDUorkGD9ihoANC6Bi2fDgIrVOC/gnFQ72YGmG3Ree0+mbcQMEICCxACqWxMBoXj4CiVc1D6/zoxl27ckEfNCtfMYNkSpIABVLQYONVAUErmnqxm8MpBn2tb1RzVqdwJU4BQEIWEsAFcta8uiXIIGahubnvz5HM+xzW0Mr65sIigyhQAACJgKoWCYY2FWkgFanf+vAZZphn/gk4Ep5rSINkDQE5CGAiiWPcUKU0gl88nsyzbDua1V/5F+Xrhe0DAEIdF0AFavrhmhBxgKHovL4D7o9HVcg4zQQOgSUIYCKpYxxRpa3EziXUTLU05dm2G1BGbc7j2MQgABZAqhYZI0HorGYQEZR1cgP/WmGff9oLNayW4wdHUGgKwKoWF3Rw71yFSitbpi0KZhm2Fe+P9/QjA+6les4Im6lCaBiKW3EkS9X36Sd+10EzbCTPw8pr2mECAQgIBcBVCy5jBTiFEdAr9f/5+cYmmEf8/LPKqkWp1G0AgEIWEQAFcsizOiEGIEvA9Jphh3m6RuZVUpMUAgEAhAwSwAVyywmXGQbAidjrvJr2Y9eyreNjJAFBBQlgIqlqOFWdLKXcsvd16hohv1MlapoCCQPAdkKoGLJdugQeGcE8spqRm8IoBl2yY/ROp2+M7fiWghAgBQBVKyOR+L/9l38xxdnp3weMuXzkMktj6c3hzy9OeTvm4P/vjl40ibDY+Jntx5PeQc95R00oeXx5MagJzcGjd8YOH5j4LhPDY+xLY8nPglseQQ88UnAmA2Gx+iWx+Mfn3n84zOjWh7/76Mz/++jM495+T/m5T+Sf3zoP/JD/0dbHo+s93tkvd+IlsfD6/weXuf30DrVQ+tUD641PNz5xxqV+xrV8DW+w9f4DvM0PIa2PIZ4GL6xcHDLg/8tGf8dhsM8fd3XGG5/eJ2h8ZEfGroe9fGZ0RsMcY791JDFBO+giZ8ZUn56swHkmS/OPrvl7LQvQ6dvDZvxVdjzX597Ydu5f24Pn/1txP98F/HSjsj//T7ylZ3n5+06P3/3hX/tiXptb9Tr+y6+8cPFRfsvvXXg8uKDl5f8GL3sUPQ7h//4z88x7x6JWXE09v1fYlf+Grf6WBxzPN7jt4Q1JxLWnUz88FSil0/Sx6eTP/k9eaNvircqZZNf6uf+qVvOpH0ZkP5VYPo3QRnbgzO+DcnccTZrZ2jW7rDsPeey94Xn7I/IOXg+99ktZ2mG/ef28LpGrGXv+DWPKyBApgAqVsfj8kzLZGec2bEjU4EJ3kHFlfUdjzeugAAESBVAxep4ZBLUmku55Zdyyy+3PKLzylse1//INzxiWh6xVypir1TEtTzi1RXx6ooEtSZBrUm8euuRVKBJKtAkF1QmF1SmXDM8UgsNj7TCqrTCqvQiwyOj5ZFZXNXyqM4srs4qMTyyWx45pTU5pTW5pTV5ZYZHflltflntlfJbD/X1WvX12qsVdVcr6gpaHtc0ddc0dYWa+kJNfVGl4VHMP6rqi6vqS6oaSqoaSqsN/yyuMpy9pjHce6Xc0HJuaU12iSGGjCJDhCnXKpMKDOnEqw3J/pF/PTrPwBKVXXY+qywyszQ8ozQsveRsWnFIanFQSlFAcpF/UqFf4jXfhGu/xxf4xBWcir16IkZ9PFr96+Urv1y6cuRi/uGo/J8u5P14PvdAZO4PETl7w3P2nMveFZb1fWjWd2czvw3J3BaU8XVgxtaA9C/PpH3hn7bZL/UzVaq3b8qnbPKG35M/Op3k5ZO0/lTi2pMJnicSPH6L/+BY/Kpf4/6/X+LePxr73pGY//4c887hP5Ydil71a1xmMdayd/xqxxUQIFkAFYvk0UFsEIAABCBwSwAV65YF9iAAAQhAgGQBVCySRwexQQACEIDALQFUrFsW2IMABCAAAZIFULFIHh3EBgEIQAACtwRQsW5ZYA8CEIAABEgWQMUieXQQGwQgAAEI3BJAxbplgT0IQAACECBZQJYV69tvv6Vp2tHRcfz48RcvXhT2Fc5Q+F6chQAEIAABcgSE53OKnECNkRw9etTBweGHH35ITk5evHhxv379iouLjWfb7ghn2PZ6HIEABCAAATIFhOdzEivW+PHjly9fzmvqdLp77733s88+E8AVzlDgRpyCAAQgAAGiBITnc+IqVmNjY7du3U6ePGlEfP3112fPnm18yu80NDRU3tzUajVFUZWVla2uwVMIQAACEJCXgMwqVkFBAUVR58+fNyqvXr16/Pjxxqf8jpeXF/XXTa1W3yxh+DcEIAABCMhSgP8JRKPRtJrz+afE/YxlZsUy/RkrJSXlr8ULzyAAAQhAQMYCarVaHhXLzN8Kmiaj0+nUarVGo7nj/6Pgq7oN/5Rm8wlWVlbafI5I8I7/AyfkRoygOQOh0WjUarVOpzOd5I37xP2MxXHc+PHj//Of//Ah6nS6++67T3jlhTGZO94R/s3pHTdLzo02nyDHcTafIxIk5z+oO4sEI3hnbqZ3kVixjh496ujoeODAgZSUlH//+9/9+vUrKioyDVr0fbySRCe1fIMYRMubi9sjRlBcT8u3ZoERJLFicRy3fft2Nzc3BweH8ePHR0VFSU1vAWipUxBu3+YTxM9Ywi8AWZy1+VcpEuz665DQitX1xDrVQkNDg5eX141/duouGV1s8wlyHGfzOSJBGf0Xd9tQMYK3ZenUQVSsTnHhYghAAAIQsJoAKpbV6NExBCAAAQh0SgAVq1NcuBgCEIAABKwmgIplNXp0DAEIQAACnRJAxeoUFy6GAAQgAAGrCaBiGeg79XVcVhsrsztu9aGLDz30EH9rfX39O++8M2DAgN69e7/00ktSv8vN7HjNujAsLOzFF18cNGgQRVGmH5Ss1+vXr19/zz339OjRY+rUqRkZGcbmysvLFyxY0LdvX2dn50WLFlVXVxtPEbjTXoILFy40/bCdGTNmGIOXV4Le3t5jx47t06ePq6vrnDlz0tLSjIkIvDLz8/NnzZrVs2dPV1fXVatWNTc3G+8ibUcgwSlTppgO4pIlS4zByyjBHTt2PPbYY31b8yypQwAACmNJREFUtgkTJqhUKj4LSw4fKhbX2a/jMr7UiN3x8vJ69NFHC29upaWlfKhLly594IEHgoODo6OjJ0yYMHHiRGJTaBuYSqVau3btiRMnWlWsTZs2OTs7nzp1Kj4+fvbs2UOGDKmvr+dvnzlz5qhRo6KiosLDw4cPHz5//vy2zZJzpL0EFy5cOHPmzJuDWXj9+nVjzPJKcMaMGfv3709KSoqLi5s1a5abm1tNTQ2fS3uvTK1WO3LkyGnTpsXGxqpUKhcXF09PT2P6pO0IJDhlypTFixcbB9H4RRPySvD06dO+vr4ZGRnp6elr1qzp3r17UlISx3GWHD5ULMOHQnXq67hI+++kbTxeXl6jRo1qdVyj0XTv3v3YsWP88dTUVIqiLly40Ooy8p+aViy9Xn/PPfd88cUXfNgajcbR0fHIkSMcx/Gfj3z58mX+lJ+fn52dXUFBgbwS5Dhu4cKFc+bMaRu2fBPkOK6kpISiqLCwMI7jBF6ZKpXK3t7e+MuA77//3snJqbGxsa0GaUdME+Q4bsqUKe+9917bIOWbIMdx/fv337t3r4WHT+kV6w4+eLfty460I15eXr169Ro0aNCQIUMWLFiQn5/PcVxwcDBFURUVFcZo3dzctm7danwqlx3TipWdnU1RVGxsrDH4yZMnv/vuuxzH7du3r1+/fsbjzc3N3bp1O3HihPEIsTumCfIVy9nZ2dXV9cEHH1y6dGlZWRkfuXwT5DguMzOToqjExEThV+b69etN/98rJyeHoqiYmBhix84YmGmCfMVycXG5++67H330UQ8Pj9raWv5KmSao1WqPHDni4OCQnJwsMLFIkZ3SK5aZX25ifCHKYkelUv3666/x8fH+/v5PPfWUm5tbVVXV4cOHHRwcTOMfN27cBx98YHpEFvumE3pkZCRFUdeuXTNG/sorr7z66qscx23cuPHBBx80Huc4ztXVdceOHaZHyNw3TZDjuCNHjvj4+CQkJJw8eXLEiBHjxo3TarWyTlCn073wwguTJk3i/QVemYsXL54+fbpxmGpraymKMv75xHictJ1WCXIct2vXLn9//4SEhEOHDt13331z587lY5ZdggkJCb179+7WrZuzs7Ovry/HcRYePlQss75AkrT/JMyPp6KiwsnJae/evQIvLPNbI+FK0wldCRXL1Jz/mTIoKEjWFWvp0qU0TRu/AEnglSm7CZ0frFYJmo6g8WfKrKwsjuNkl2BjY2NmZmZ0dLSHh4eLi0tycrKFh0/pFcsmfyvY6r+QsWPHenh4CPzw3up6wp+aViwl/Faw1XC4uLjs3LlTvr/2XL58+f3335+Tk2PMS+CVKcWvlYz9SrTTNsFWHdXU1FAU5e/vz3GcHBM0pjN16tR///vfFh4+pVcsq3wdl3HILbBTXV3dv3//b775hv8D6fHjx/lO09LSbGblxZYtW/ikKisrW628iI6O5k+dOXNGpisvTF8karXazs7Ox8fHuLRERgnq9frly5ffe++9pu9AMK68uO0rk1+YUFxczCPs2rXLycnpxufJmpqQs99egq0ijIiIoCgqPj7+xuQjrwRbJfLMM88sXLhQYGKRIjtULMPqdgt/HVergRf96cqVK0NDQ3NzcyMjI6dNm+bi4lJSUsIvQnVzcwsJCYmOjn6qZRO9a+karK6ujm3ZKIraunVrbGwsv6Jk06ZN/fr14//SM2fOnFar20ePHn3x4sWIiAh3d3fCV7ffNsHq6upVq1ZduHAhNzc3KChozJgx7u7uxil75syZMkpw2bJlzs7OoaGhxkXedXV1/Atm6dKlt31l8ou/p0+fHhcX5+/v7+rqSvLq9vYSzMrK2rBhQ3R0dG5uro+Pz9ChQydPnswnLq8EPTw8wsLCcnNzExISPDw87OzsAgICBCYWKbJDxTK8ciz8dVzSTet8y/PmzRs0aJCDg8N99903b948/jfmHMfxb/Tr379/r1695s6dW1hYKHUkIrZ/9uxZ0/dgUhS1cOFCjuP4dxAPHDjQ0dFx6tSp6enpxk7Ly8vnz5/fp08fJyenN998k/B3EN82wbq6uunTp7u6unbv3p2m6cWLFxuXenMcJ68EWw0fRVH79+/nB0vglZmXl/f888/37NnTxcVl5cqVJL+DuL0Er1y5Mnny5AEDBjg6Og4fPnz16tXG92NxHCejBBctWkTTtIODg6ur69SpU/lyJTyxiJ4dKpZxfsMOBCAAAQgQLYCKRfTwIDgIQAACEDAKoGIZKbADAQhAAAJEC6BiET08CA4CEIAABIwCqFhGCuxAAAIQgADRAqhYRA8PgoMABCAAAaMAKpaRAjsQgAAEIEC0ACoW0cOD4CAAAQhAwCiAimWkwA4EIAABCBAtgIpF9PAgOCUIlJSU8N/i6uDgMHDgwOnTp0dERHAcZ/qZv0pwQI4Q6FAAFatDIlwAAWkFnn766SeffDIkJOTGR9pcvHjR29ub/6xbVCxp3dG6DAVQsWQ4aAjZhgQqKiooigoNDW2VE03Txs+po2maP3vq1KnRo0c7OjoOGTLko48+Mn7IHkVRO3bsmDlzZo8ePYYMGXLs2LFWreEpBGxDABXLNsYRWchVoLm5uU+fPitWrDB+IjufSUlJCf9ZsYWFhfxH7587d87JyenAgQPZ2dkBAQGDBw/+6KOP+Ispirr77rv37NmTnp6+bt26bt26paSkyFUEcUOgfQFUrPZtcAYCFhE4fvx4//79e/ToMXHiRE9PT/6bk9r+HWvq1Kne3t7GiH766adBgwbxTymKWrp0qfHUk08+uWzZMuNT7EDAZgRQsWxmKJGIjAXq6+sDAgI2bNjw1FNPdevWjf8ajlZ/x3JxcenRo0fvm1uPHj0oiqqtreVr28GDB435r1ix4h//+IfxKXYgYDMCqFg2M5RIxEYE3nrrLTc3t7Y/Y/Xo0WPz5s2Zf910Oh0qlo0MPNIwQwAVywwkXAIBCwp8+eWXd999N8dx3bt3N36XPMdxEydOXLRo0W0DoSjK9NeAEyZMMH1621twEAJyFEDFkuOoIWbbESgrK3vmmWd++umn+Pj4nJycX3/9deDAgXxlcnd3X7ZsWWFh4fXr1zmO8/f3v+uuuz766KOkpKSUlJQjR46sXbuWh6AoysXFZd++fenp6R9++KG9vX1ycrLtGCETCNwUQMW6KYF/Q8AaAg0NDR4eHmPGjHF2du7Vq9dDDz20bt26uro6juNOnz49fPjwu+66y7i63d/ff+LEiT179nRycho/fvzu3bv5kCmK+u6775577jlHR8fBgwf/8ssv1kgFfUJAcgFULMmJ0QEEpBZotUZD6u7QPgSsJYCKZS159AsB0QRQsUSjRENkC6BikT0+iA4CZgigYpmBhEtsQQAVyxZGETlAAAIQUIIAKpYSRhk5QgACELAFAVQsWxhF5AABCEBACQKoWEoYZeQIAQhAwBYEULFsYRSRAwQgAAElCKBiKWGUkSMEIAABWxBAxbKFUUQOEIAABJQggIqlhFFGjhCAAARsQQAVyxZGETlAAAIQUIIAKpYSRhk5QgACELAFgf8fvCXIF+2EpcYAAAAASUVORK5CYII=)\n",
        "<br>Dalam Reinforcement Learning Cartpole, telah didefinisikan bahwa diberikan reward +1 untuk setiap langkah tiang pole tetap tegak. Dan karena jumlah langkah maksimum adalah 200, maka average return maksimum bernilai 200 juga.\n",
        "Dalam pelatihan agen yang dilakukan dengan 300 step. dengan step satu hingga 100 nilai average return berada dibawah 10, yakni 9.100000381469727. ketika pelatihan agen hingga 200 step nilai average return naik signifikan hingga hampir menyentuh nilai maksimal, pada step 200, nilai average return mencapai 195.10000610351562. Akhirnya ketika memasuki step 250 agent telah mendapatkan nilai 200,maksimal dari average return. <br>\n",
        "\n",
        "Agent Reinforcement Learning Cartpole, dapat melakukan pembelajaran mandiri terhadap Lingkungan Cartpole dengan baik, dengan 250 step dapat mendapatkan nilai maksimal dari lingkungan Cartpole."
      ],
      "metadata": {
        "id": "zfyxitMpnXYu"
      }
    }
  ]
}